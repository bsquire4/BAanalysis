{
 "cells": [
  {
   "cell_type": "code",
   "execution_count": 1,
   "id": "675a809980f82a57",
   "metadata": {
    "ExecuteTime": {
     "end_time": "2024-11-01T15:44:05.856013Z",
     "start_time": "2024-11-01T15:44:05.839013Z"
    },
    "collapsed": false,
    "jupyter": {
     "outputs_hidden": false
    }
   },
   "outputs": [
    {
     "data": {
      "text/plain": [
       "'C:\\\\Users\\\\Ben04\\\\Documents\\\\Coding\\\\PowerOf10Analysis'"
      ]
     },
     "execution_count": 1,
     "metadata": {},
     "output_type": "execute_result"
    }
   ],
   "source": [
    "import os\n",
    "\n",
    "os.getcwd()"
   ]
  },
  {
   "cell_type": "code",
   "execution_count": 2,
   "id": "deba74ab98ae0d6d",
   "metadata": {
    "ExecuteTime": {
     "end_time": "2024-11-01T15:44:57.366320Z",
     "start_time": "2024-11-01T15:44:05.907040Z"
    },
    "collapsed": false,
    "jupyter": {
     "outputs_hidden": false
    }
   },
   "outputs": [],
   "source": [
    "import pickle\n",
    "import plotly.graph_objects as go\n",
    "import pprint\n",
    "import numpy as np\n",
    "import pandas as pd\n",
    "\n",
    "# Invert the process: Load the pickled data\n",
    "with open('athlete_data.pkl', 'rb') as f:\n",
    "    (listOfAthletes, listOfDFs, listOfClubs, athleteInfo, clubsDF,\n",
    "     athleteLines, athleteFigs, clubLines, groupLine) = pickle.load(f)\n"
   ]
  },
  {
   "cell_type": "code",
   "execution_count": 3,
   "id": "9ba3cd2b4a3e523d",
   "metadata": {
    "ExecuteTime": {
     "end_time": "2024-11-01T15:44:57.397578Z",
     "start_time": "2024-11-01T15:44:57.372321Z"
    },
    "collapsed": false,
    "jupyter": {
     "outputs_hidden": false
    }
   },
   "outputs": [],
   "source": [
    "def clubFilter(athleteList, searchClub):\n",
    "    dfClub = clubsDF.loc[clubsDF['club'] == searchClub]\n",
    "    athletes = dfClub['athlete_id'].to_numpy()\n",
    "    athleteList = np.array(athleteList)\n",
    "    filtered_athletes = np.intersect1d(athletes, athleteList)\n",
    "\n",
    "    return filtered_athletes.tolist()\n",
    "\n",
    "def ageFilter(athleteList, yearOfBirth):\n",
    "    filtered_athletes = athleteInfo[\n",
    "        (athleteInfo.index.isin(athleteList)) &\n",
    "        (athleteInfo['birthyear'] == yearOfBirth)\n",
    "        ].index\n",
    "    return filtered_athletes\n"
   ]
  },
  {
   "cell_type": "code",
   "execution_count": 4,
   "id": "c2914db19e24a1a4",
   "metadata": {
    "ExecuteTime": {
     "end_time": "2024-11-01T15:44:57.428586Z",
     "start_time": "2024-11-01T15:44:57.401579Z"
    },
    "collapsed": false,
    "jupyter": {
     "outputs_hidden": false
    }
   },
   "outputs": [],
   "source": [
    "def clubImprovement(club, label, minAge=0, maxAge=100):\n",
    "    groupList = clubFilter(listOfAthletes, club)\n",
    "\n",
    "    totalimprovment = 0\n",
    "    athletecount = 0\n",
    "    for athlete in groupList:\n",
    "        line, minn, maxx, raw = athleteLines[athlete][label]\n",
    "        if line:\n",
    "            values = clubsDF.loc[(clubsDF['club'] == club) & (clubsDF['athlete_id'] == athlete), label].values\n",
    "            print(athleteInfo.loc[athlete]['full_name'])\n",
    "            print(athlete)\n",
    "            for value in values:\n",
    "                if value['end_year'] > minn and value['end_year'] > minAge:\n",
    "                    starting = max(value['start_year'], minn, minAge)\n",
    "                    ending = min((value['end_year'] + 1), maxx, maxAge)\n",
    "                    if starting < ending:\n",
    "                        startvalue = line(starting)\n",
    "                        endvalue = line(ending)\n",
    "\n",
    "                        improvement = ((endvalue - startvalue) / startvalue) * 100\n",
    "                        print(f'From {startvalue} at {starting} to {endvalue}: {ending}')\n",
    "                        print(f'Improvement: {improvement}')\n",
    "                        totalimprovment += improvement\n",
    "                        athletecount += 1\n",
    "\n",
    "    if athletecount > 0:\n",
    "        avgimprovment = totalimprovment / athletecount\n",
    "        print(\"Average improvment of group {} is {}\".format(label, avgimprovment))\n",
    "    else:\n",
    "        print(\"NO ATHLETES\")\n",
    "        \n",
    "def groupImprovement(athleteList, label, start, end):\n",
    "    totalimprovment = 0\n",
    "    athletecount = 0\n",
    "    for athlete in athleteList:\n",
    "        line, minn, maxx, raw = athleteLines[athlete][label]\n",
    "        if line:\n",
    "            print(athleteInfo.loc[athlete]['full_name'])\n",
    "            print(athlete)\n",
    "            if end > minn and start < maxx:\n",
    "                starting = max(start, minn)\n",
    "                ending = min(end, maxx)\n",
    "                if starting < ending:\n",
    "                    startvalue = line(starting)\n",
    "                    endvalue = line(ending)\n",
    "\n",
    "                    improvement = ((endvalue - startvalue) / startvalue) * 100\n",
    "                    print(f'From {startvalue} at {starting} to {endvalue}: {ending}')\n",
    "                    print(f'Improvement: {improvement}')\n",
    "\n",
    "                    totalimprovment += improvement\n",
    "                    athletecount += 1\n",
    "\n",
    "    print(athletecount)\n",
    "    if athletecount > 0:\n",
    "        avgimprovment = totalimprovment / athletecount\n",
    "        print(\"Average improvment of group {} is {}\".format(label, avgimprovment))\n",
    "        return avgimprovment\n",
    "    else:\n",
    "        print(\"NO ATHLETES\")\n",
    "        return None\n"
   ]
  },
  {
   "cell_type": "code",
   "execution_count": 5,
   "id": "3abc2fcb0bce0ced",
   "metadata": {
    "ExecuteTime": {
     "end_time": "2024-11-01T15:44:57.460590Z",
     "start_time": "2024-11-01T15:44:57.435586Z"
    },
    "collapsed": false,
    "jupyter": {
     "outputs_hidden": false
    }
   },
   "outputs": [
    {
     "name": "stdout",
     "output_type": "stream",
     "text": [
      "6.405859761385664\n"
     ]
    }
   ],
   "source": [
    "line, minn, maxx = clubLines['Birmingham Uni']['age']\n",
    "improvement = ((line(21) - line(18)) / line(18)) * 100\n",
    "print(improvement)"
   ]
  },
  {
   "cell_type": "code",
   "execution_count": 6,
   "id": "976807a0546dabcf",
   "metadata": {
    "ExecuteTime": {
     "end_time": "2024-11-01T16:14:52.221712Z",
     "start_time": "2024-11-01T16:14:52.212140Z"
    },
    "collapsed": false,
    "jupyter": {
     "outputs_hidden": false
    }
   },
   "outputs": [],
   "source": [
    "def highestperformers(athleteList, label, x_input):\n",
    "    athleteList = np.array(athleteList)\n",
    "    df = pd.DataFrame(columns=['athlete', 'athlete_name', 'best_performance'])\n",
    "\n",
    "    athlete_id = 0\n",
    "    athleteName = ''\n",
    "    athletePerformance = 0\n",
    "    for count, athlete in enumerate(athleteList):\n",
    "        athlete_id = athlete\n",
    "        athleteName = athleteInfo._get_value(athlete, 'full_name')\n",
    "        \n",
    "        start = athleteLines[athlete][label][1]\n",
    "        end = athleteLines[athlete][label][2]\n",
    "        rawdata = athleteLines[athlete][label][3]\n",
    "        if rawdata is not None and athlete_id is not None and athleteName is not None and start <= x_input:\n",
    "            validdata = rawdata[(rawdata['x'] > x_input) & (rawdata['x'] < x_input + 1)]['y']\n",
    "            athletePerformance = validdata.max() if not validdata.empty else np.nan\n",
    "            df.loc[count] = [athlete_id, athleteName, athletePerformance]\n",
    "\n",
    "    df = df.sort_values(by='best_performance', ascending=False)\n",
    "    return df"
   ]
  },
  {
   "cell_type": "code",
   "execution_count": 7,
   "id": "c3b00316cbe644",
   "metadata": {
    "ExecuteTime": {
     "end_time": "2024-11-01T16:08:16.003663Z",
     "start_time": "2024-11-01T16:07:45.995639Z"
    },
    "collapsed": false,
    "jupyter": {
     "outputs_hidden": false
    }
   },
   "outputs": [
    {
     "name": "stdout",
     "output_type": "stream",
     "text": [
      "       athlete           athlete_name  best_performance\n",
      "7779    556235             Max Burgin       1174.427299\n",
      "3069     63342          Jake Wightman       1171.894790\n",
      "2023     16670              Sam Atkin       1171.532104\n",
      "4661     81741              Josh Kerr       1171.363514\n",
      "6181    439836           George Mills       1165.006240\n",
      "3818     37208           Neil Gourley       1163.080916\n",
      "5822    110447          Emile Cairess       1162.254922\n",
      "7697    444384           Ben Pattison       1153.996531\n",
      "8515    512438        Mahamed Mahamed       1150.332938\n",
      "5231    113232          Daniel Rowden       1148.496237\n",
      "3728    155067           Elliot Giles       1135.718069\n",
      "4478     81765          Patrick Dever       1135.640617\n",
      "5767     90724    William Battershill       1127.299472\n",
      "7870    750931              Adam Fogg       1124.359420\n",
      "6162     84701        Thomas Randolph       1123.689378\n",
      "6928    227724         Alex Botterill       1123.620927\n",
      "13192   634495    Alex Haydock-Wilson       1118.264667\n",
      "7604    446880           Callum Dodds       1117.377250\n",
      "1842     73650          Guy Learmonth       1115.847344\n",
      "4666     61758              Jack Rowe       1113.849117\n",
      "7056    538179            Thomas Keen       1113.543236\n",
      "9217    222626            Lewis Davey       1110.276745\n",
      "12059  1036061          Charles Hicks       1108.421976\n",
      "2700     16663        Philip Sesemann       1107.575590\n",
      "3151     76569             James West       1104.288425\n",
      "6086    112819           Archie Davis       1101.783986\n",
      "7014    467277          Finley Mclear       1101.413239\n",
      "7268    631585       Zakariya Mahamed       1098.830582\n",
      "7303    459835        Charles Wheeler       1097.613633\n",
      "10281   566567   Reece Sharman-Newell       1097.282711\n",
      "9385    516072        Matthew Stonier       1094.959283\n",
      "7820    442148           Joe Wigfield       1094.574718\n",
      "6278    509715          James Gormley       1094.560332\n",
      "8941    706663         Henry McLuckie       1092.731924\n",
      "8415    771162         Yusuf Bizimana       1092.021296\n",
      "14158   607414        Charlie Carvell       1091.929436\n",
      "6569     80805         Piers Copeland       1090.733542\n",
      "7621    371049          Scott Beattie       1088.432576\n",
      "20831   116795           Joseph Brier       1086.865429\n",
      "511       3269            Phil Norman       1086.835959\n",
      "7622    349203            James Young       1085.747741\n",
      "2009     55611        Andrew Butchart       1084.212753\n",
      "2470     30583             Zak Seddon       1078.993839\n",
      "9965    520556           Callum Elson       1078.391798\n",
      "10184   709164         Samuel Reardon       1078.272907\n",
      "8835    767800           Rory Leonard       1077.024427\n",
      "7197    227357        David Mullarkey       1075.103832\n",
      "10453   618208           Osian Perrin       1073.721094\n",
      "8406    359895            Alex Knibbs       1070.857277\n",
      "5024     67150            Ellis Cross       1070.178313\n",
      "8509    520569           Kane Elliott       1068.983352\n",
      "9529    857176         Will Barnicoat       1067.893678\n",
      "4184     51232             Marc Scott       1066.937940\n",
      "2452     18026  Charlie Da'Vall Grice       1064.147617\n",
      "1561     46262           Tom Anderson       1063.640329\n",
      "16418    25993          Efekemo Okoro       1062.887642\n",
      "4980    376566          Thomas George       1062.670759\n",
      "6164    109438               Tom Dodd       1062.269267\n",
      "22237   466053           Brodie Young       1060.146301\n",
      "8705    525876           Ethan Hussey       1056.492902\n",
      "6552    527528           Tom Mortimer       1055.001317\n",
      "254       5269        Jonathan Mellor       1054.437372\n",
      "7583    402926          Joseph Tuffin       1053.699056\n",
      "2157     34660         James McMurray       1053.249387\n",
      "10333   609009          Justin Davies       1050.692070\n",
      "7588    508887           Thomas Evans       1050.604539\n",
      "7305    446911         George Wheeler       1049.925963\n",
      "9253    714840           Jack Higgins       1047.164120\n",
      "9367    727413          Samuel Charig       1046.635278\n",
      "19343    99284           Niclas Baker       1044.709926\n",
      "2317     31359          Cameron Boyek       1042.177721\n",
      "8626    366464         Paulos Surafel       1039.195274\n",
      "679        482          Mohamed Farah       1038.685242\n",
      "11116   448846             Jacob Cann       1037.637435\n",
      "9228    586651          Tyler Bilyard       1037.426870\n",
      "10375   771463            Alex Melloy       1037.362127\n",
      "4744     65966            Jacob Allen       1037.014897\n",
      "4400     26400             Dan Putnam       1036.016241\n",
      "6097     89823           Ben Claridge       1035.757090\n",
      "9231    744906       Conall McGinness       1035.645595\n",
      "13387  1125242              Jack Gumm       1035.014216\n",
      "9345    732473         Daniel Howells       1034.810816\n",
      "7606    228734       Angus Harrington       1034.310289\n",
      "4606     68696            Max Wharton       1034.090290\n",
      "13257   405851           Lee Thompson       1032.664090\n",
      "4453    355459        Jamaine Coleman       1031.876019\n",
      "8964    411617        Tomer Tarragano       1028.680782\n",
      "6531    155517             Adam Moore       1027.460026\n",
      "13917  1009702        Harry Wakefield       1026.186364\n",
      "950       9326         Dewi Griffiths       1024.678886\n",
      "4792     65677            Mark Pearce       1024.378168\n",
      "9456    541056          Oliver Newman       1023.554415\n",
      "8894    508155             Kian Davis       1022.334564\n",
      "1979     47610              Jack Gray       1021.762637\n",
      "27940   526757          Edward Faulds       1021.564980\n",
      "11054   722923          Elliot Savage       1020.255328\n",
      "9604    632363         Thomas Bridger       1019.820473\n",
      "27865   532521            Alex Cooper       1018.528752\n",
      "6637     82265          Mohamud Aadan       1015.534411\n",
      "12212   914818         George Couttie       1014.515317\n"
     ]
    }
   ],
   "source": [
    "ratings2024 = highestperformers(listOfAthletes, 'dec_date', 2024)\n",
    "pd.set_option('display.max_rows', None)\n",
    "print(ratings2024[:100])"
   ]
  },
  {
   "cell_type": "code",
   "execution_count": 8,
   "id": "8cc1deb57729688d",
   "metadata": {
    "ExecuteTime": {
     "end_time": "2024-11-01T17:27:54.067636Z",
     "start_time": "2024-11-01T17:15:00.467542Z"
    },
    "collapsed": false,
    "jupyter": {
     "outputs_hidden": false
    }
   },
   "outputs": [],
   "source": [
    "ages = np.arange(14,30)\n",
    "agerankings = {}\n",
    "for age in ages:\n",
    "    agerankings[age] = highestperformers(listOfAthletes, 'age', age)\n",
    "    \n",
    "years = np.arange(2000,2025)\n",
    "yearrankings = {}\n",
    "for year in years:\n",
    "    yearrankings[year] = highestperformers(listOfAthletes, 'dec_date', year)\n"
   ]
  },
  {
   "cell_type": "code",
   "execution_count": 106,
   "id": "ce8eede53b5e5d4f",
   "metadata": {
    "ExecuteTime": {
     "end_time": "2024-11-03T17:41:54.763079Z",
     "start_time": "2024-11-03T17:41:54.735060Z"
    },
    "collapsed": false,
    "jupyter": {
     "outputs_hidden": false
    }
   },
   "outputs": [
    {
     "name": "stdout",
     "output_type": "stream",
     "text": [
      "       athlete           athlete_name  best_performance\n",
      "7697    444384           Ben Pattison       1160.644852\n",
      "5789    186398           Jake Heyward       1150.643111\n",
      "5231    113232          Daniel Rowden       1140.368312\n",
      "6744      6004          Martyn Rooney       1138.009656\n",
      "12059  1036061          Charles Hicks       1125.058633\n",
      "4661     81741              Josh Kerr       1120.510312\n",
      "7056    538179            Thomas Keen       1117.628288\n",
      "251       1388            Curtis Robb       1116.852983\n",
      "6181    439836           George Mills       1115.923805\n",
      "6928    227724         Alex Botterill       1110.046568\n",
      "4399    377196          Kyle Langford       1108.910221\n",
      "3069     63342          Jake Wightman       1106.758053\n",
      "6569     80805         Piers Copeland       1104.559740\n",
      "233        909         Tom Lancashire       1103.903770\n",
      "2452     18026  Charlie Da'Vall Grice       1103.582281\n",
      "217       1068          James McIlroy       1102.973084\n",
      "3647     21594           Nigel Levine       1100.349302\n",
      "4        12316          Andrew Osagie       1100.158623\n",
      "1462     13995            Jarryd Dunn       1099.072495\n",
      "3728    155067           Elliot Giles       1098.870968\n",
      "232       1382         Michael Rimmer       1096.012502\n",
      "6086    112819           Archie Davis       1093.992443\n",
      "20831   116795           Joseph Brier       1092.184916\n",
      "6162     84701        Thomas Randolph       1089.829505\n",
      "1518     29611            Tom Farrell       1086.304431\n",
      "7870    750931              Adam Fogg       1085.978142\n",
      "7014    467277          Finley Mclear       1083.529155\n",
      "6163     73245        Michael Bingham       1080.872082\n",
      "8835    767800           Rory Leonard       1080.734284\n",
      "9217    222626            Lewis Davey       1079.937459\n",
      "13192   634495    Alex Haydock-Wilson       1078.959509\n",
      "7268    631585       Zakariya Mahamed       1077.331698\n",
      "7197    227357        David Mullarkey       1076.682796\n",
      "213       6618            Ross Murray       1076.361827\n",
      "2470     30583             Zak Seddon       1075.035985\n",
      "7604    446880           Callum Dodds       1074.828864\n",
      "7820    442148           Joe Wigfield       1073.989878\n",
      "1496      1527             Ricky Soos       1073.429642\n",
      "4334     39003           Sean Baldock       1072.916402\n",
      "10279   855218         Thomas Staines       1072.798153\n",
      "771       5055           Chris O'Hare       1072.615959\n",
      "3151     76569             James West       1072.131253\n",
      "103         38           Richard Ashe       1072.109043\n",
      "6080    441656         Spencer Thomas       1071.676459\n",
      "7203    355807        Tiarnan Crorken       1069.430452\n",
      "7867    722919             Jake Smith       1068.133519\n",
      "8415    771162         Yusuf Bizimana       1068.054610\n",
      "53         634              Luke Gunn       1066.076757\n",
      "840      13465        James Wilkinson       1064.804486\n",
      "6552    527528           Tom Mortimer       1064.500978\n",
      "679        482          Mohamed Farah       1062.246098\n",
      "1471     47405       Mukhtar Mohammed       1061.469403\n",
      "1842     73650          Guy Learmonth       1060.742460\n",
      "9253    714840           Jack Higgins       1060.127348\n",
      "1411     21592           Chris Clarke       1059.451407\n",
      "3818     37208           Neil Gourley       1057.409916\n",
      "9367    727413          Samuel Charig       1054.944832\n",
      "2005     14191         Callum Hawkins       1054.756302\n",
      "1531      5316            Andy Vernon       1053.984619\n",
      "315        876             Eddie King       1053.768534\n",
      "548       2995             Joe Thomas       1053.682691\n",
      "8467    750877     Rocco Zaman-Browne       1053.664280\n",
      "9228    586651          Tyler Bilyard       1052.942569\n",
      "5         4944            James Shane       1051.192884\n",
      "5767     90724    William Battershill       1049.843178\n",
      "4453    355459        Jamaine Coleman       1049.686354\n",
      "5539    109995         Euan Makepeace       1049.682211\n",
      "1516      1153         Chris Mulvaney       1049.519906\n",
      "6800     76998            Joseph Reid       1049.269827\n",
      "5303    217407          Ben Greenwood       1048.939797\n",
      "488       4253           James Brewer       1048.601369\n",
      "501      12131         Richard Peters       1046.755477\n",
      "15601    39960      Simon Mugglestone       1046.402779\n",
      "568       1023               Tom Mayo       1046.389282\n",
      "6278    509715          James Gormley       1046.275408\n",
      "350      14027         Kris Robertson       1045.678568\n",
      "7606    228734       Angus Harrington       1045.324896\n",
      "90          49          Andy Baddeley       1043.747908\n",
      "289       6718        Ross Millington       1042.476559\n",
      "7621    371049          Scott Beattie       1041.699303\n",
      "544        375         Stephen Davies       1041.354290\n",
      "5822    110447          Emile Cairess       1041.163223\n",
      "1556       334          Kim Critchley       1041.033623\n",
      "4926     80454      Robbie Fitzgibbon       1040.508459\n",
      "13257   405851           Lee Thompson       1040.482233\n",
      "6164    109438               Tom Dodd       1040.352075\n",
      "273       7035        David Forrester       1040.174368\n",
      "1573      1187        Spencer Newport       1039.889936\n",
      "6887       621           Mark Griffin       1039.494631\n",
      "1256     22659          Louis Persent       1038.933834\n",
      "6027     14026          Andrew Steele       1037.866448\n",
      "0         4261               Ed Aston       1037.841687\n",
      "5553    402840            Isaac Akers       1037.671866\n",
      "1765     35394  Dale King-Clutterbuck       1036.864528\n",
      "992        345           Keith Cullen       1035.973657\n",
      "3827     90034        Jonathan Davies       1035.719820\n",
      "43        4077           Richard Hill       1035.495315\n",
      "9231    744906       Conall McGinness       1034.802469\n",
      "6028     80206       Richard Strachan       1034.209788\n",
      "1480      7391           Richard Buck       1034.077525\n",
      "680        444              Mike East       1033.852424\n",
      "412        459            Lee Emanuel       1033.783139\n",
      "7588    508887           Thomas Evans       1032.677120\n",
      "875        625              Ian Grime       1031.856252\n",
      "4666     61758              Jack Rowe       1031.555616\n",
      "5824    143804       Jonathan Shields       1031.287926\n",
      "1352     49526           Niall Brooks       1031.021100\n",
      "919        976          Angus Maclean       1030.546033\n",
      "3832    106086          George Duggan       1030.527507\n",
      "8964    411617        Tomer Tarragano       1030.510979\n",
      "2317     31359          Cameron Boyek       1030.377940\n",
      "8894    508155             Kian Davis       1029.128832\n",
      "663       9303            Mitch Goose       1029.072446\n",
      "734        344            Grant Cuddy       1028.884874\n",
      "1742       963             Andy Lyons       1028.145910\n",
      "4963    361840      Christopher Olley       1028.029862\n",
      "190      12780        Ricky Stevenson       1027.710779\n",
      "545       3076           Chris Gowell       1027.694676\n",
      "9456    541056          Oliver Newman       1026.896277\n",
      "1056      1844         Richard Archer       1025.671330\n",
      "1430     12336           Jack Green 🐊       1024.687134\n",
      "543       1176           James Nasrat       1024.410361\n",
      "8678    546770          Benjamin West       1023.827521\n",
      "2091      3704         Steven Fennell       1022.802808\n",
      "6948    339028            Sam Stevens       1022.706973\n",
      "547       1146             Chris Moss       1022.105359\n",
      "5838      1090            Darren Mead       1022.080172\n",
      "3526     83997             Ben Snaith       1022.018013\n",
      "96        1534       Darren St. Clair       1021.555440\n",
      "97        1107              Joe Mills       1021.462945\n",
      "500        702        Andrew Hennessy       1021.381032\n",
      "1935     49163           Philip Hurst       1020.903236\n",
      "5473       571          Ian Gillespie       1020.550417\n",
      "235        804             Ed Jackson       1020.376181\n",
      "4184     51232             Marc Scott       1019.920978\n",
      "866       1104             Mark Miles       1019.727774\n",
      "7303    459835        Charles Wheeler       1019.714274\n",
      "5542     80829            Hugo Milner       1019.504545\n",
      "2487     33233    Robbie Farnham-Rose       1019.304785\n",
      "2225      6611         Michael Warner       1019.128250\n",
      "2465     37929             Zak Curran       1019.065783\n",
      "11329     1319         Darren Preston       1018.290177\n",
      "108       1530          Neil Speaight       1018.149535\n",
      "2176     89372        Kieran Clements       1018.057528\n",
      "3581     59062         Michael Wilson       1017.490400\n",
      "4618      1220            Matt O'Dowd       1017.032562\n",
      "542       7917          Jimmy Watkins       1016.166286\n",
      "589       4932        Nathan Woodward       1015.422596\n",
      "186       4548        Jonathan Taylor       1015.340511\n",
      "1670      1504          Darrell Smith       1015.310026\n",
      "7086    659948             Luke Duffy       1015.253719\n",
      "703      18607           Jake Shelley       1015.158063\n",
      "342       2759           David Bishop       1014.995572\n",
      "407        871            Joel Kidger       1014.087111\n",
      "570      29553            Warren Frey       1013.752274\n",
      "11009   973613          Arlo Ludewick       1013.555581\n",
      "8458    386516          Oliver Dustin       1013.500210\n",
      "774       1606         Chris Thompson       1013.161590\n",
      "3114     44025           William Gray       1012.487847\n",
      "2292     89557         Matthew Fayers       1012.158164\n",
      "3870     70782           Andrew Smith       1011.966846\n",
      "487       1044          Colin McCourt       1011.840787\n",
      "100       1025          Jermaine Mays       1011.459376\n",
      "1445      3072         Joseph Maynard       1011.431709\n",
      "3775     84430            Doug Musson       1011.252180\n",
      "4478     81765          Patrick Dever       1011.076418\n",
      "1542     47493          Luke Caldwell       1010.754294\n",
      "11116   448846             Jacob Cann       1010.745823\n",
      "16418    25993          Efekemo Okoro       1010.385497\n",
      "2488     92669          Henry Tufnell       1010.299284\n",
      "5188    408692            Kieran Wood       1008.901649\n",
      "784      30516          Jonathan Cook       1008.840565\n",
      "1857     73317     Rory Graham-Watson       1008.211041\n",
      "7020    112372           John Howorth       1008.017920\n",
      "8490    648215         Charles Cooper       1007.181754\n",
      "5423      1541        Simon Stebbings       1007.064683\n",
      "4792     65677            Mark Pearce       1006.765424\n",
      "8237    394044         Angus McMillan       1006.621251\n",
      "406       5577            Rob Mullett       1006.192197\n",
      "6481    526434            Sol Sweeney       1006.110788\n",
      "7259    438392             Max Heyden       1005.890516\n",
      "2216     61835            Sam Stabler       1005.144200\n",
      "2013      1739        Benedict Whitby       1005.106932\n",
      "106       1243          Scott Overall       1005.076384\n",
      "3123     55687          Ryan Driscoll       1004.875451\n",
      "686       1116        Dave Mitchinson       1004.293650\n",
      "4676     86435          Nathan Gillis       1004.181258\n",
      "12965  1073367         David Melville       1003.902935\n",
      "1532      6627       Oliver Aitchison       1003.834108\n",
      "2321      1778           Vince Wilson       1003.269970\n",
      "13387  1125242              Jack Gumm       1002.827894\n",
      "3533      1748       Anthony Whiteman       1002.551251\n",
      "5266     68571             Jamie Webb       1002.539824\n",
      "9057    512862     Christopher McLeod       1002.461382\n",
      "262       1613          Tony Thompson       1002.428646\n",
      "7946     82548             Tom Conlon       1002.282871\n",
      "549       1602             James Thie       1002.052097\n",
      "1357      7166          James Bowness       1002.046971\n",
      "2008      5006      Matthew Gillespie       1001.559684\n",
      "243        179          Garry Bristow       1001.186182\n",
      "7968\n"
     ]
    }
   ],
   "source": [
    "df = agerankings[23]\n",
    "\n",
    "pprint.pprint(df[:200])\n",
    "pprint.pprint(df.index.get_loc(df[df['athlete_name'] == 'Noah Bennett'].index[0]) + 1)"
   ]
  },
  {
   "cell_type": "code",
   "execution_count": 14,
   "id": "7b95a08eec66c77d",
   "metadata": {
    "ExecuteTime": {
     "end_time": "2024-11-08T17:10:07.363779Z",
     "start_time": "2024-11-08T17:10:07.107890Z"
    },
    "collapsed": false,
    "jupyter": {
     "outputs_hidden": false
    }
   },
   "outputs": [
    {
     "ename": "AttributeError",
     "evalue": "'Figure' object has no attribute 'updatelayout'",
     "output_type": "error",
     "traceback": [
      "\u001b[1;31m---------------------------------------------------------------------------\u001b[0m",
      "\u001b[1;31mAttributeError\u001b[0m                            Traceback (most recent call last)",
      "Cell \u001b[1;32mIn[14], line 44\u001b[0m\n\u001b[0;32m     42\u001b[0m fig\u001b[38;5;241m.\u001b[39mupdate_xaxes(title\u001b[38;5;241m=\u001b[39m\u001b[38;5;124m'\u001b[39m\u001b[38;5;124mYear\u001b[39m\u001b[38;5;124m'\u001b[39m)\n\u001b[0;32m     43\u001b[0m fig\u001b[38;5;241m.\u001b[39mupdate_yaxes(title\u001b[38;5;241m=\u001b[39m\u001b[38;5;124m'\u001b[39m\u001b[38;5;124mUK Ranking\u001b[39m\u001b[38;5;124m'\u001b[39m)\n\u001b[1;32m---> 44\u001b[0m \u001b[43mfig\u001b[49m\u001b[38;5;241;43m.\u001b[39;49m\u001b[43mupdatelayout\u001b[49m(template\u001b[38;5;241m=\u001b[39m\u001b[38;5;124m'\u001b[39m\u001b[38;5;124mplotly_dark\u001b[39m\u001b[38;5;124m'\u001b[39m)\n\u001b[0;32m     45\u001b[0m fig\u001b[38;5;241m.\u001b[39mshow()\n",
      "\u001b[1;31mAttributeError\u001b[0m: 'Figure' object has no attribute 'updatelayout'"
     ]
    }
   ],
   "source": [
    "import plotly.express as px\n",
    "\n",
    "athletes = {\n",
    "    'Josh Kerr': [],\n",
    "    'Jake Wightman': [],\n",
    "    'Max Burgin': [],\n",
    "    'Mohamed Farah': [],\n",
    "    'Sam Atkin': []\n",
    "}\n",
    "\n",
    "years = np.arange(2010, 2025)\n",
    "\n",
    "for athlete in athletes:\n",
    "    for year in years:\n",
    "        df = yearrankings[year]\n",
    "        # Check if the athlete is in the dataframe\n",
    "        athlete_data = df[df['athlete_name'] == athlete]\n",
    "        \n",
    "        if not athlete_data.empty:\n",
    "            # Extract the 'best_performance' value\n",
    "            best_performance = athlete_data['best_performance'].values[0]\n",
    "            \n",
    "            if not np.isnan(best_performance):\n",
    "                # Append the ranking (1-based)\n",
    "                athletes[athlete].append(df.index.get_loc(athlete_data.index[0]) + 1)\n",
    "            else:\n",
    "                # Append NaN if performance is NaN\n",
    "                athletes[athlete].append(np.nan)\n",
    "        else:\n",
    "            # Append NaN if the athlete is not in the dataframe\n",
    "            athletes[athlete].append(np.nan)\n",
    "\n",
    "# Create the plot\n",
    "fig = go.Figure()\n",
    "colors = px.colors.qualitative.Plotly\n",
    "\n",
    "\n",
    "for counter, athlete in enumerate(athletes):\n",
    "    fig.add_trace(go.Scatter(x=years, y=athletes[athlete], name=athlete,line=dict(color=colors[counter])))\n",
    "\n",
    "fig.update_yaxes(range=[50,0])\n",
    "fig.update_xaxes(title='Year')\n",
    "fig.update_yaxes(title='UK Ranking')\n",
    "fig.updatelayout(template='plotly_dark')\n",
    "fig.show()\n"
   ]
  },
  {
   "cell_type": "code",
   "execution_count": 132,
   "id": "5c9789c7bac999a0",
   "metadata": {
    "ExecuteTime": {
     "end_time": "2024-11-08T16:54:15.855247Z",
     "start_time": "2024-11-08T16:54:15.795999Z"
    },
    "collapsed": false,
    "jupyter": {
     "outputs_hidden": false
    }
   },
   "outputs": [
    {
     "data": {
      "application/vnd.plotly.v1+json": {
       "config": {
        "plotlyServerURL": "https://plot.ly"
       },
       "data": [
        {
         "line": {
          "color": "#636EFA"
         },
         "mode": "lines",
         "name": "1st",
         "type": "scatter",
         "x": [
          2000,
          2001,
          2002,
          2003,
          2004,
          2005,
          2006,
          2007,
          2008,
          2009,
          2010,
          2011,
          2012,
          2013,
          2014,
          2015,
          2016,
          2017,
          2018,
          2019,
          2020,
          2021,
          2022,
          2023,
          2024
         ],
         "y": [
          1126.985073895911,
          1103.6694284343896,
          1090.6373552156633,
          1113.9352897104006,
          1115.667988967502,
          1146.1207053460175,
          1126.308594784612,
          1114.9847664508432,
          1144.991111291577,
          1135.6591318736812,
          1141.3644144979044,
          1128.7185026860698,
          1144.4571243834703,
          1146.865900618077,
          1149.3875855231113,
          1173.4454182978793,
          1167.2267663404236,
          1153.3619341175465,
          1158.142885901341,
          1174.4656039892348,
          1166.355661075985,
          1165.394698623603,
          1164.2897403194477,
          1178.2648485500565,
          1174.4272985151388
         ]
        },
        {
         "line": {
          "color": "#EF553B"
         },
         "mode": "lines",
         "name": "10th",
         "type": "scatter",
         "x": [
          2000,
          2001,
          2002,
          2003,
          2004,
          2005,
          2006,
          2007,
          2008,
          2009,
          2010,
          2011,
          2012,
          2013,
          2014,
          2015,
          2016,
          2017,
          2018,
          2019,
          2020,
          2021,
          2022,
          2023,
          2024
         ],
         "y": [
          1023.5488977495573,
          1038.153840565011,
          1032.2582883817292,
          1024.3372102072885,
          1040.9582671201536,
          1041.480109174991,
          1047.9029635275929,
          1040.9135229938113,
          1061.8798575294834,
          1058.5174462324803,
          1059.7802842243502,
          1079.5631831481492,
          1090.3956306856537,
          1080.694729417215,
          1073.618302979005,
          1081.0335150009214,
          1075.3324331180506,
          1085.9382778225906,
          1084.0803661924224,
          1097.489930341805,
          1119.172694313765,
          1118.8185189745536,
          1114.5576540609156,
          1131.6952416317392,
          1135.7180688456647
         ]
        },
        {
         "line": {
          "color": "#00CC96"
         },
         "mode": "lines",
         "name": "100th",
         "type": "scatter",
         "x": [
          2000,
          2001,
          2002,
          2003,
          2004,
          2005,
          2006,
          2007,
          2008,
          2009,
          2010,
          2011,
          2012,
          2013,
          2014,
          2015,
          2016,
          2017,
          2018,
          2019,
          2020,
          2021,
          2022,
          2023,
          2024
         ],
         "y": [
          915.8593282851242,
          919.2170754716432,
          924.5156706002812,
          933.7557277880994,
          928.4889658650176,
          933.2007497269271,
          941.9352414723222,
          938.6569818444657,
          943.2002304076296,
          955.0572369416334,
          964.4332060753566,
          970.6477088114366,
          974.3614751483963,
          964.5557609248174,
          971.4461276791734,
          971.9965133876129,
          972.2450979013481,
          968.390896923374,
          976.4533764653356,
          981.5704989971953,
          988.3106607318485,
          1011.5360742757109,
          1009.9445557355235,
          1013.5151166750269,
          1014.5153173206255
         ]
        }
       ],
       "layout": {
        "template": {
         "data": {
          "bar": [
           {
            "error_x": {
             "color": "#f2f5fa"
            },
            "error_y": {
             "color": "#f2f5fa"
            },
            "marker": {
             "line": {
              "color": "rgb(17,17,17)",
              "width": 0.5
             },
             "pattern": {
              "fillmode": "overlay",
              "size": 10,
              "solidity": 0.2
             }
            },
            "type": "bar"
           }
          ],
          "barpolar": [
           {
            "marker": {
             "line": {
              "color": "rgb(17,17,17)",
              "width": 0.5
             },
             "pattern": {
              "fillmode": "overlay",
              "size": 10,
              "solidity": 0.2
             }
            },
            "type": "barpolar"
           }
          ],
          "carpet": [
           {
            "aaxis": {
             "endlinecolor": "#A2B1C6",
             "gridcolor": "#506784",
             "linecolor": "#506784",
             "minorgridcolor": "#506784",
             "startlinecolor": "#A2B1C6"
            },
            "baxis": {
             "endlinecolor": "#A2B1C6",
             "gridcolor": "#506784",
             "linecolor": "#506784",
             "minorgridcolor": "#506784",
             "startlinecolor": "#A2B1C6"
            },
            "type": "carpet"
           }
          ],
          "choropleth": [
           {
            "colorbar": {
             "outlinewidth": 0,
             "ticks": ""
            },
            "type": "choropleth"
           }
          ],
          "contour": [
           {
            "colorbar": {
             "outlinewidth": 0,
             "ticks": ""
            },
            "colorscale": [
             [
              0,
              "#0d0887"
             ],
             [
              0.1111111111111111,
              "#46039f"
             ],
             [
              0.2222222222222222,
              "#7201a8"
             ],
             [
              0.3333333333333333,
              "#9c179e"
             ],
             [
              0.4444444444444444,
              "#bd3786"
             ],
             [
              0.5555555555555556,
              "#d8576b"
             ],
             [
              0.6666666666666666,
              "#ed7953"
             ],
             [
              0.7777777777777778,
              "#fb9f3a"
             ],
             [
              0.8888888888888888,
              "#fdca26"
             ],
             [
              1,
              "#f0f921"
             ]
            ],
            "type": "contour"
           }
          ],
          "contourcarpet": [
           {
            "colorbar": {
             "outlinewidth": 0,
             "ticks": ""
            },
            "type": "contourcarpet"
           }
          ],
          "heatmap": [
           {
            "colorbar": {
             "outlinewidth": 0,
             "ticks": ""
            },
            "colorscale": [
             [
              0,
              "#0d0887"
             ],
             [
              0.1111111111111111,
              "#46039f"
             ],
             [
              0.2222222222222222,
              "#7201a8"
             ],
             [
              0.3333333333333333,
              "#9c179e"
             ],
             [
              0.4444444444444444,
              "#bd3786"
             ],
             [
              0.5555555555555556,
              "#d8576b"
             ],
             [
              0.6666666666666666,
              "#ed7953"
             ],
             [
              0.7777777777777778,
              "#fb9f3a"
             ],
             [
              0.8888888888888888,
              "#fdca26"
             ],
             [
              1,
              "#f0f921"
             ]
            ],
            "type": "heatmap"
           }
          ],
          "heatmapgl": [
           {
            "colorbar": {
             "outlinewidth": 0,
             "ticks": ""
            },
            "colorscale": [
             [
              0,
              "#0d0887"
             ],
             [
              0.1111111111111111,
              "#46039f"
             ],
             [
              0.2222222222222222,
              "#7201a8"
             ],
             [
              0.3333333333333333,
              "#9c179e"
             ],
             [
              0.4444444444444444,
              "#bd3786"
             ],
             [
              0.5555555555555556,
              "#d8576b"
             ],
             [
              0.6666666666666666,
              "#ed7953"
             ],
             [
              0.7777777777777778,
              "#fb9f3a"
             ],
             [
              0.8888888888888888,
              "#fdca26"
             ],
             [
              1,
              "#f0f921"
             ]
            ],
            "type": "heatmapgl"
           }
          ],
          "histogram": [
           {
            "marker": {
             "pattern": {
              "fillmode": "overlay",
              "size": 10,
              "solidity": 0.2
             }
            },
            "type": "histogram"
           }
          ],
          "histogram2d": [
           {
            "colorbar": {
             "outlinewidth": 0,
             "ticks": ""
            },
            "colorscale": [
             [
              0,
              "#0d0887"
             ],
             [
              0.1111111111111111,
              "#46039f"
             ],
             [
              0.2222222222222222,
              "#7201a8"
             ],
             [
              0.3333333333333333,
              "#9c179e"
             ],
             [
              0.4444444444444444,
              "#bd3786"
             ],
             [
              0.5555555555555556,
              "#d8576b"
             ],
             [
              0.6666666666666666,
              "#ed7953"
             ],
             [
              0.7777777777777778,
              "#fb9f3a"
             ],
             [
              0.8888888888888888,
              "#fdca26"
             ],
             [
              1,
              "#f0f921"
             ]
            ],
            "type": "histogram2d"
           }
          ],
          "histogram2dcontour": [
           {
            "colorbar": {
             "outlinewidth": 0,
             "ticks": ""
            },
            "colorscale": [
             [
              0,
              "#0d0887"
             ],
             [
              0.1111111111111111,
              "#46039f"
             ],
             [
              0.2222222222222222,
              "#7201a8"
             ],
             [
              0.3333333333333333,
              "#9c179e"
             ],
             [
              0.4444444444444444,
              "#bd3786"
             ],
             [
              0.5555555555555556,
              "#d8576b"
             ],
             [
              0.6666666666666666,
              "#ed7953"
             ],
             [
              0.7777777777777778,
              "#fb9f3a"
             ],
             [
              0.8888888888888888,
              "#fdca26"
             ],
             [
              1,
              "#f0f921"
             ]
            ],
            "type": "histogram2dcontour"
           }
          ],
          "mesh3d": [
           {
            "colorbar": {
             "outlinewidth": 0,
             "ticks": ""
            },
            "type": "mesh3d"
           }
          ],
          "parcoords": [
           {
            "line": {
             "colorbar": {
              "outlinewidth": 0,
              "ticks": ""
             }
            },
            "type": "parcoords"
           }
          ],
          "pie": [
           {
            "automargin": true,
            "type": "pie"
           }
          ],
          "scatter": [
           {
            "marker": {
             "line": {
              "color": "#283442"
             }
            },
            "type": "scatter"
           }
          ],
          "scatter3d": [
           {
            "line": {
             "colorbar": {
              "outlinewidth": 0,
              "ticks": ""
             }
            },
            "marker": {
             "colorbar": {
              "outlinewidth": 0,
              "ticks": ""
             }
            },
            "type": "scatter3d"
           }
          ],
          "scattercarpet": [
           {
            "marker": {
             "colorbar": {
              "outlinewidth": 0,
              "ticks": ""
             }
            },
            "type": "scattercarpet"
           }
          ],
          "scattergeo": [
           {
            "marker": {
             "colorbar": {
              "outlinewidth": 0,
              "ticks": ""
             }
            },
            "type": "scattergeo"
           }
          ],
          "scattergl": [
           {
            "marker": {
             "line": {
              "color": "#283442"
             }
            },
            "type": "scattergl"
           }
          ],
          "scattermapbox": [
           {
            "marker": {
             "colorbar": {
              "outlinewidth": 0,
              "ticks": ""
             }
            },
            "type": "scattermapbox"
           }
          ],
          "scatterpolar": [
           {
            "marker": {
             "colorbar": {
              "outlinewidth": 0,
              "ticks": ""
             }
            },
            "type": "scatterpolar"
           }
          ],
          "scatterpolargl": [
           {
            "marker": {
             "colorbar": {
              "outlinewidth": 0,
              "ticks": ""
             }
            },
            "type": "scatterpolargl"
           }
          ],
          "scatterternary": [
           {
            "marker": {
             "colorbar": {
              "outlinewidth": 0,
              "ticks": ""
             }
            },
            "type": "scatterternary"
           }
          ],
          "surface": [
           {
            "colorbar": {
             "outlinewidth": 0,
             "ticks": ""
            },
            "colorscale": [
             [
              0,
              "#0d0887"
             ],
             [
              0.1111111111111111,
              "#46039f"
             ],
             [
              0.2222222222222222,
              "#7201a8"
             ],
             [
              0.3333333333333333,
              "#9c179e"
             ],
             [
              0.4444444444444444,
              "#bd3786"
             ],
             [
              0.5555555555555556,
              "#d8576b"
             ],
             [
              0.6666666666666666,
              "#ed7953"
             ],
             [
              0.7777777777777778,
              "#fb9f3a"
             ],
             [
              0.8888888888888888,
              "#fdca26"
             ],
             [
              1,
              "#f0f921"
             ]
            ],
            "type": "surface"
           }
          ],
          "table": [
           {
            "cells": {
             "fill": {
              "color": "#506784"
             },
             "line": {
              "color": "rgb(17,17,17)"
             }
            },
            "header": {
             "fill": {
              "color": "#2a3f5f"
             },
             "line": {
              "color": "rgb(17,17,17)"
             }
            },
            "type": "table"
           }
          ]
         },
         "layout": {
          "annotationdefaults": {
           "arrowcolor": "#f2f5fa",
           "arrowhead": 0,
           "arrowwidth": 1
          },
          "autotypenumbers": "strict",
          "coloraxis": {
           "colorbar": {
            "outlinewidth": 0,
            "ticks": ""
           }
          },
          "colorscale": {
           "diverging": [
            [
             0,
             "#8e0152"
            ],
            [
             0.1,
             "#c51b7d"
            ],
            [
             0.2,
             "#de77ae"
            ],
            [
             0.3,
             "#f1b6da"
            ],
            [
             0.4,
             "#fde0ef"
            ],
            [
             0.5,
             "#f7f7f7"
            ],
            [
             0.6,
             "#e6f5d0"
            ],
            [
             0.7,
             "#b8e186"
            ],
            [
             0.8,
             "#7fbc41"
            ],
            [
             0.9,
             "#4d9221"
            ],
            [
             1,
             "#276419"
            ]
           ],
           "sequential": [
            [
             0,
             "#0d0887"
            ],
            [
             0.1111111111111111,
             "#46039f"
            ],
            [
             0.2222222222222222,
             "#7201a8"
            ],
            [
             0.3333333333333333,
             "#9c179e"
            ],
            [
             0.4444444444444444,
             "#bd3786"
            ],
            [
             0.5555555555555556,
             "#d8576b"
            ],
            [
             0.6666666666666666,
             "#ed7953"
            ],
            [
             0.7777777777777778,
             "#fb9f3a"
            ],
            [
             0.8888888888888888,
             "#fdca26"
            ],
            [
             1,
             "#f0f921"
            ]
           ],
           "sequentialminus": [
            [
             0,
             "#0d0887"
            ],
            [
             0.1111111111111111,
             "#46039f"
            ],
            [
             0.2222222222222222,
             "#7201a8"
            ],
            [
             0.3333333333333333,
             "#9c179e"
            ],
            [
             0.4444444444444444,
             "#bd3786"
            ],
            [
             0.5555555555555556,
             "#d8576b"
            ],
            [
             0.6666666666666666,
             "#ed7953"
            ],
            [
             0.7777777777777778,
             "#fb9f3a"
            ],
            [
             0.8888888888888888,
             "#fdca26"
            ],
            [
             1,
             "#f0f921"
            ]
           ]
          },
          "colorway": [
           "#636efa",
           "#EF553B",
           "#00cc96",
           "#ab63fa",
           "#FFA15A",
           "#19d3f3",
           "#FF6692",
           "#B6E880",
           "#FF97FF",
           "#FECB52"
          ],
          "font": {
           "color": "#f2f5fa"
          },
          "geo": {
           "bgcolor": "rgb(17,17,17)",
           "lakecolor": "rgb(17,17,17)",
           "landcolor": "rgb(17,17,17)",
           "showlakes": true,
           "showland": true,
           "subunitcolor": "#506784"
          },
          "hoverlabel": {
           "align": "left"
          },
          "hovermode": "closest",
          "mapbox": {
           "style": "dark"
          },
          "paper_bgcolor": "rgb(17,17,17)",
          "plot_bgcolor": "rgb(17,17,17)",
          "polar": {
           "angularaxis": {
            "gridcolor": "#506784",
            "linecolor": "#506784",
            "ticks": ""
           },
           "bgcolor": "rgb(17,17,17)",
           "radialaxis": {
            "gridcolor": "#506784",
            "linecolor": "#506784",
            "ticks": ""
           }
          },
          "scene": {
           "xaxis": {
            "backgroundcolor": "rgb(17,17,17)",
            "gridcolor": "#506784",
            "gridwidth": 2,
            "linecolor": "#506784",
            "showbackground": true,
            "ticks": "",
            "zerolinecolor": "#C8D4E3"
           },
           "yaxis": {
            "backgroundcolor": "rgb(17,17,17)",
            "gridcolor": "#506784",
            "gridwidth": 2,
            "linecolor": "#506784",
            "showbackground": true,
            "ticks": "",
            "zerolinecolor": "#C8D4E3"
           },
           "zaxis": {
            "backgroundcolor": "rgb(17,17,17)",
            "gridcolor": "#506784",
            "gridwidth": 2,
            "linecolor": "#506784",
            "showbackground": true,
            "ticks": "",
            "zerolinecolor": "#C8D4E3"
           }
          },
          "shapedefaults": {
           "line": {
            "color": "#f2f5fa"
           }
          },
          "sliderdefaults": {
           "bgcolor": "#C8D4E3",
           "bordercolor": "rgb(17,17,17)",
           "borderwidth": 1,
           "tickwidth": 0
          },
          "ternary": {
           "aaxis": {
            "gridcolor": "#506784",
            "linecolor": "#506784",
            "ticks": ""
           },
           "baxis": {
            "gridcolor": "#506784",
            "linecolor": "#506784",
            "ticks": ""
           },
           "bgcolor": "rgb(17,17,17)",
           "caxis": {
            "gridcolor": "#506784",
            "linecolor": "#506784",
            "ticks": ""
           }
          },
          "title": {
           "x": 0.05
          },
          "updatemenudefaults": {
           "bgcolor": "#506784",
           "borderwidth": 0
          },
          "xaxis": {
           "automargin": true,
           "gridcolor": "#283442",
           "linecolor": "#506784",
           "ticks": "",
           "title": {
            "standoff": 15
           },
           "zerolinecolor": "#283442",
           "zerolinewidth": 2
          },
          "yaxis": {
           "automargin": true,
           "gridcolor": "#283442",
           "linecolor": "#506784",
           "ticks": "",
           "title": {
            "standoff": 15
           },
           "zerolinecolor": "#283442",
           "zerolinewidth": 2
          }
         }
        },
        "xaxis": {
         "title": {
          "text": "Year"
         }
        },
        "yaxis": {
         "range": [
          850,
          1200
         ],
         "title": {
          "text": "World Athletics Points"
         }
        }
       }
      },
      "text/html": [
       "<div>                            <div id=\"b04d9597-8827-4c43-ab53-db6e8952e58f\" class=\"plotly-graph-div\" style=\"height:525px; width:100%;\"></div>            <script type=\"text/javascript\">                require([\"plotly\"], function(Plotly) {                    window.PLOTLYENV=window.PLOTLYENV || {};                                    if (document.getElementById(\"b04d9597-8827-4c43-ab53-db6e8952e58f\")) {                    Plotly.newPlot(                        \"b04d9597-8827-4c43-ab53-db6e8952e58f\",                        [{\"line\":{\"color\":\"#636EFA\"},\"mode\":\"lines\",\"name\":\"1st\",\"x\":[2000,2001,2002,2003,2004,2005,2006,2007,2008,2009,2010,2011,2012,2013,2014,2015,2016,2017,2018,2019,2020,2021,2022,2023,2024],\"y\":[1126.985073895911,1103.6694284343896,1090.6373552156633,1113.9352897104006,1115.667988967502,1146.1207053460175,1126.308594784612,1114.9847664508432,1144.991111291577,1135.6591318736812,1141.3644144979044,1128.7185026860698,1144.4571243834703,1146.865900618077,1149.3875855231113,1173.4454182978793,1167.2267663404236,1153.3619341175465,1158.142885901341,1174.4656039892348,1166.355661075985,1165.394698623603,1164.2897403194477,1178.2648485500565,1174.4272985151388],\"type\":\"scatter\"},{\"line\":{\"color\":\"#EF553B\"},\"mode\":\"lines\",\"name\":\"10th\",\"x\":[2000,2001,2002,2003,2004,2005,2006,2007,2008,2009,2010,2011,2012,2013,2014,2015,2016,2017,2018,2019,2020,2021,2022,2023,2024],\"y\":[1023.5488977495573,1038.153840565011,1032.2582883817292,1024.3372102072885,1040.9582671201536,1041.480109174991,1047.9029635275929,1040.9135229938113,1061.8798575294834,1058.5174462324803,1059.7802842243502,1079.5631831481492,1090.3956306856537,1080.694729417215,1073.618302979005,1081.0335150009214,1075.3324331180506,1085.9382778225906,1084.0803661924224,1097.489930341805,1119.172694313765,1118.8185189745536,1114.5576540609156,1131.6952416317392,1135.7180688456647],\"type\":\"scatter\"},{\"line\":{\"color\":\"#00CC96\"},\"mode\":\"lines\",\"name\":\"100th\",\"x\":[2000,2001,2002,2003,2004,2005,2006,2007,2008,2009,2010,2011,2012,2013,2014,2015,2016,2017,2018,2019,2020,2021,2022,2023,2024],\"y\":[915.8593282851242,919.2170754716432,924.5156706002812,933.7557277880994,928.4889658650176,933.2007497269271,941.9352414723222,938.6569818444657,943.2002304076296,955.0572369416334,964.4332060753566,970.6477088114366,974.3614751483963,964.5557609248174,971.4461276791734,971.9965133876129,972.2450979013481,968.390896923374,976.4533764653356,981.5704989971953,988.3106607318485,1011.5360742757109,1009.9445557355235,1013.5151166750269,1014.5153173206255],\"type\":\"scatter\"}],                        {\"template\":{\"data\":{\"histogram2dcontour\":[{\"type\":\"histogram2dcontour\",\"colorbar\":{\"outlinewidth\":0,\"ticks\":\"\"},\"colorscale\":[[0.0,\"#0d0887\"],[0.1111111111111111,\"#46039f\"],[0.2222222222222222,\"#7201a8\"],[0.3333333333333333,\"#9c179e\"],[0.4444444444444444,\"#bd3786\"],[0.5555555555555556,\"#d8576b\"],[0.6666666666666666,\"#ed7953\"],[0.7777777777777778,\"#fb9f3a\"],[0.8888888888888888,\"#fdca26\"],[1.0,\"#f0f921\"]]}],\"choropleth\":[{\"type\":\"choropleth\",\"colorbar\":{\"outlinewidth\":0,\"ticks\":\"\"}}],\"histogram2d\":[{\"type\":\"histogram2d\",\"colorbar\":{\"outlinewidth\":0,\"ticks\":\"\"},\"colorscale\":[[0.0,\"#0d0887\"],[0.1111111111111111,\"#46039f\"],[0.2222222222222222,\"#7201a8\"],[0.3333333333333333,\"#9c179e\"],[0.4444444444444444,\"#bd3786\"],[0.5555555555555556,\"#d8576b\"],[0.6666666666666666,\"#ed7953\"],[0.7777777777777778,\"#fb9f3a\"],[0.8888888888888888,\"#fdca26\"],[1.0,\"#f0f921\"]]}],\"heatmap\":[{\"type\":\"heatmap\",\"colorbar\":{\"outlinewidth\":0,\"ticks\":\"\"},\"colorscale\":[[0.0,\"#0d0887\"],[0.1111111111111111,\"#46039f\"],[0.2222222222222222,\"#7201a8\"],[0.3333333333333333,\"#9c179e\"],[0.4444444444444444,\"#bd3786\"],[0.5555555555555556,\"#d8576b\"],[0.6666666666666666,\"#ed7953\"],[0.7777777777777778,\"#fb9f3a\"],[0.8888888888888888,\"#fdca26\"],[1.0,\"#f0f921\"]]}],\"heatmapgl\":[{\"type\":\"heatmapgl\",\"colorbar\":{\"outlinewidth\":0,\"ticks\":\"\"},\"colorscale\":[[0.0,\"#0d0887\"],[0.1111111111111111,\"#46039f\"],[0.2222222222222222,\"#7201a8\"],[0.3333333333333333,\"#9c179e\"],[0.4444444444444444,\"#bd3786\"],[0.5555555555555556,\"#d8576b\"],[0.6666666666666666,\"#ed7953\"],[0.7777777777777778,\"#fb9f3a\"],[0.8888888888888888,\"#fdca26\"],[1.0,\"#f0f921\"]]}],\"contourcarpet\":[{\"type\":\"contourcarpet\",\"colorbar\":{\"outlinewidth\":0,\"ticks\":\"\"}}],\"contour\":[{\"type\":\"contour\",\"colorbar\":{\"outlinewidth\":0,\"ticks\":\"\"},\"colorscale\":[[0.0,\"#0d0887\"],[0.1111111111111111,\"#46039f\"],[0.2222222222222222,\"#7201a8\"],[0.3333333333333333,\"#9c179e\"],[0.4444444444444444,\"#bd3786\"],[0.5555555555555556,\"#d8576b\"],[0.6666666666666666,\"#ed7953\"],[0.7777777777777778,\"#fb9f3a\"],[0.8888888888888888,\"#fdca26\"],[1.0,\"#f0f921\"]]}],\"surface\":[{\"type\":\"surface\",\"colorbar\":{\"outlinewidth\":0,\"ticks\":\"\"},\"colorscale\":[[0.0,\"#0d0887\"],[0.1111111111111111,\"#46039f\"],[0.2222222222222222,\"#7201a8\"],[0.3333333333333333,\"#9c179e\"],[0.4444444444444444,\"#bd3786\"],[0.5555555555555556,\"#d8576b\"],[0.6666666666666666,\"#ed7953\"],[0.7777777777777778,\"#fb9f3a\"],[0.8888888888888888,\"#fdca26\"],[1.0,\"#f0f921\"]]}],\"mesh3d\":[{\"type\":\"mesh3d\",\"colorbar\":{\"outlinewidth\":0,\"ticks\":\"\"}}],\"scatter\":[{\"marker\":{\"line\":{\"color\":\"#283442\"}},\"type\":\"scatter\"}],\"parcoords\":[{\"type\":\"parcoords\",\"line\":{\"colorbar\":{\"outlinewidth\":0,\"ticks\":\"\"}}}],\"scatterpolargl\":[{\"type\":\"scatterpolargl\",\"marker\":{\"colorbar\":{\"outlinewidth\":0,\"ticks\":\"\"}}}],\"bar\":[{\"error_x\":{\"color\":\"#f2f5fa\"},\"error_y\":{\"color\":\"#f2f5fa\"},\"marker\":{\"line\":{\"color\":\"rgb(17,17,17)\",\"width\":0.5},\"pattern\":{\"fillmode\":\"overlay\",\"size\":10,\"solidity\":0.2}},\"type\":\"bar\"}],\"scattergeo\":[{\"type\":\"scattergeo\",\"marker\":{\"colorbar\":{\"outlinewidth\":0,\"ticks\":\"\"}}}],\"scatterpolar\":[{\"type\":\"scatterpolar\",\"marker\":{\"colorbar\":{\"outlinewidth\":0,\"ticks\":\"\"}}}],\"histogram\":[{\"marker\":{\"pattern\":{\"fillmode\":\"overlay\",\"size\":10,\"solidity\":0.2}},\"type\":\"histogram\"}],\"scattergl\":[{\"marker\":{\"line\":{\"color\":\"#283442\"}},\"type\":\"scattergl\"}],\"scatter3d\":[{\"type\":\"scatter3d\",\"line\":{\"colorbar\":{\"outlinewidth\":0,\"ticks\":\"\"}},\"marker\":{\"colorbar\":{\"outlinewidth\":0,\"ticks\":\"\"}}}],\"scattermapbox\":[{\"type\":\"scattermapbox\",\"marker\":{\"colorbar\":{\"outlinewidth\":0,\"ticks\":\"\"}}}],\"scatterternary\":[{\"type\":\"scatterternary\",\"marker\":{\"colorbar\":{\"outlinewidth\":0,\"ticks\":\"\"}}}],\"scattercarpet\":[{\"type\":\"scattercarpet\",\"marker\":{\"colorbar\":{\"outlinewidth\":0,\"ticks\":\"\"}}}],\"carpet\":[{\"aaxis\":{\"endlinecolor\":\"#A2B1C6\",\"gridcolor\":\"#506784\",\"linecolor\":\"#506784\",\"minorgridcolor\":\"#506784\",\"startlinecolor\":\"#A2B1C6\"},\"baxis\":{\"endlinecolor\":\"#A2B1C6\",\"gridcolor\":\"#506784\",\"linecolor\":\"#506784\",\"minorgridcolor\":\"#506784\",\"startlinecolor\":\"#A2B1C6\"},\"type\":\"carpet\"}],\"table\":[{\"cells\":{\"fill\":{\"color\":\"#506784\"},\"line\":{\"color\":\"rgb(17,17,17)\"}},\"header\":{\"fill\":{\"color\":\"#2a3f5f\"},\"line\":{\"color\":\"rgb(17,17,17)\"}},\"type\":\"table\"}],\"barpolar\":[{\"marker\":{\"line\":{\"color\":\"rgb(17,17,17)\",\"width\":0.5},\"pattern\":{\"fillmode\":\"overlay\",\"size\":10,\"solidity\":0.2}},\"type\":\"barpolar\"}],\"pie\":[{\"automargin\":true,\"type\":\"pie\"}]},\"layout\":{\"autotypenumbers\":\"strict\",\"colorway\":[\"#636efa\",\"#EF553B\",\"#00cc96\",\"#ab63fa\",\"#FFA15A\",\"#19d3f3\",\"#FF6692\",\"#B6E880\",\"#FF97FF\",\"#FECB52\"],\"font\":{\"color\":\"#f2f5fa\"},\"hovermode\":\"closest\",\"hoverlabel\":{\"align\":\"left\"},\"paper_bgcolor\":\"rgb(17,17,17)\",\"plot_bgcolor\":\"rgb(17,17,17)\",\"polar\":{\"bgcolor\":\"rgb(17,17,17)\",\"angularaxis\":{\"gridcolor\":\"#506784\",\"linecolor\":\"#506784\",\"ticks\":\"\"},\"radialaxis\":{\"gridcolor\":\"#506784\",\"linecolor\":\"#506784\",\"ticks\":\"\"}},\"ternary\":{\"bgcolor\":\"rgb(17,17,17)\",\"aaxis\":{\"gridcolor\":\"#506784\",\"linecolor\":\"#506784\",\"ticks\":\"\"},\"baxis\":{\"gridcolor\":\"#506784\",\"linecolor\":\"#506784\",\"ticks\":\"\"},\"caxis\":{\"gridcolor\":\"#506784\",\"linecolor\":\"#506784\",\"ticks\":\"\"}},\"coloraxis\":{\"colorbar\":{\"outlinewidth\":0,\"ticks\":\"\"}},\"colorscale\":{\"sequential\":[[0.0,\"#0d0887\"],[0.1111111111111111,\"#46039f\"],[0.2222222222222222,\"#7201a8\"],[0.3333333333333333,\"#9c179e\"],[0.4444444444444444,\"#bd3786\"],[0.5555555555555556,\"#d8576b\"],[0.6666666666666666,\"#ed7953\"],[0.7777777777777778,\"#fb9f3a\"],[0.8888888888888888,\"#fdca26\"],[1.0,\"#f0f921\"]],\"sequentialminus\":[[0.0,\"#0d0887\"],[0.1111111111111111,\"#46039f\"],[0.2222222222222222,\"#7201a8\"],[0.3333333333333333,\"#9c179e\"],[0.4444444444444444,\"#bd3786\"],[0.5555555555555556,\"#d8576b\"],[0.6666666666666666,\"#ed7953\"],[0.7777777777777778,\"#fb9f3a\"],[0.8888888888888888,\"#fdca26\"],[1.0,\"#f0f921\"]],\"diverging\":[[0,\"#8e0152\"],[0.1,\"#c51b7d\"],[0.2,\"#de77ae\"],[0.3,\"#f1b6da\"],[0.4,\"#fde0ef\"],[0.5,\"#f7f7f7\"],[0.6,\"#e6f5d0\"],[0.7,\"#b8e186\"],[0.8,\"#7fbc41\"],[0.9,\"#4d9221\"],[1,\"#276419\"]]},\"xaxis\":{\"gridcolor\":\"#283442\",\"linecolor\":\"#506784\",\"ticks\":\"\",\"title\":{\"standoff\":15},\"zerolinecolor\":\"#283442\",\"automargin\":true,\"zerolinewidth\":2},\"yaxis\":{\"gridcolor\":\"#283442\",\"linecolor\":\"#506784\",\"ticks\":\"\",\"title\":{\"standoff\":15},\"zerolinecolor\":\"#283442\",\"automargin\":true,\"zerolinewidth\":2},\"scene\":{\"xaxis\":{\"backgroundcolor\":\"rgb(17,17,17)\",\"gridcolor\":\"#506784\",\"linecolor\":\"#506784\",\"showbackground\":true,\"ticks\":\"\",\"zerolinecolor\":\"#C8D4E3\",\"gridwidth\":2},\"yaxis\":{\"backgroundcolor\":\"rgb(17,17,17)\",\"gridcolor\":\"#506784\",\"linecolor\":\"#506784\",\"showbackground\":true,\"ticks\":\"\",\"zerolinecolor\":\"#C8D4E3\",\"gridwidth\":2},\"zaxis\":{\"backgroundcolor\":\"rgb(17,17,17)\",\"gridcolor\":\"#506784\",\"linecolor\":\"#506784\",\"showbackground\":true,\"ticks\":\"\",\"zerolinecolor\":\"#C8D4E3\",\"gridwidth\":2}},\"shapedefaults\":{\"line\":{\"color\":\"#f2f5fa\"}},\"annotationdefaults\":{\"arrowcolor\":\"#f2f5fa\",\"arrowhead\":0,\"arrowwidth\":1},\"geo\":{\"bgcolor\":\"rgb(17,17,17)\",\"landcolor\":\"rgb(17,17,17)\",\"subunitcolor\":\"#506784\",\"showland\":true,\"showlakes\":true,\"lakecolor\":\"rgb(17,17,17)\"},\"title\":{\"x\":0.05},\"updatemenudefaults\":{\"bgcolor\":\"#506784\",\"borderwidth\":0},\"sliderdefaults\":{\"bgcolor\":\"#C8D4E3\",\"borderwidth\":1,\"bordercolor\":\"rgb(17,17,17)\",\"tickwidth\":0},\"mapbox\":{\"style\":\"dark\"}}},\"yaxis\":{\"range\":[850,1200],\"title\":{\"text\":\"World Athletics Points\"}},\"xaxis\":{\"title\":{\"text\":\"Year\"}}},                        {\"responsive\": true}                    ).then(function(){\n",
       "                            \n",
       "var gd = document.getElementById('b04d9597-8827-4c43-ab53-db6e8952e58f');\n",
       "var x = new MutationObserver(function (mutations, observer) {{\n",
       "        var display = window.getComputedStyle(gd).display;\n",
       "        if (!display || display === 'none') {{\n",
       "            console.log([gd, 'removed!']);\n",
       "            Plotly.purge(gd);\n",
       "            observer.disconnect();\n",
       "        }}\n",
       "}});\n",
       "\n",
       "// Listen for the removal of the full notebook cells\n",
       "var notebookContainer = gd.closest('#notebook-container');\n",
       "if (notebookContainer) {{\n",
       "    x.observe(notebookContainer, {childList: true});\n",
       "}}\n",
       "\n",
       "// Listen for the clearing of the current output cell\n",
       "var outputEl = gd.closest('.output');\n",
       "if (outputEl) {{\n",
       "    x.observe(outputEl, {childList: true});\n",
       "}}\n",
       "\n",
       "                        })                };                });            </script>        </div>"
      ]
     },
     "metadata": {},
     "output_type": "display_data"
    }
   ],
   "source": [
    "import plotly.express as px\n",
    "\n",
    "data = []\n",
    "for year in years:\n",
    "    data.append({\n",
    "        'year': year,\n",
    "        '1st': yearrankings[year].iloc[0]['best_performance'],\n",
    "        '10th': yearrankings[year].iloc[10]['best_performance'] if len(yearrankings[year]) > 10 else None,\n",
    "        '100th': yearrankings[year].iloc[99]['best_performance'] if len(yearrankings[year]) > 99 else None\n",
    "    })\n",
    "\n",
    "values = pd.DataFrame(data)\n",
    "\n",
    "colors = px.colors.qualitative.Plotly\n",
    "fig = go.Figure()\n",
    "fig.add_trace(go.Scatter(x=values['year'], y = values['1st'], mode='lines', line=dict(color=colors[0]),  name='1st'))\n",
    "fig.add_trace(go.Scatter(x=values['year'], y = values['10th'], mode='lines', line=dict(color=colors[1]), name='10th'))\n",
    "fig.add_trace(go.Scatter(x=values['year'], y = values['100th'], mode='lines', line=dict(color=colors[2]), name='100th'))\n",
    "fig.update_yaxes(range=[850,1200], title='World Athletics Points')\n",
    "fig.update_xaxes(title='Year')\n",
    "fig.show()"
   ]
  },
  {
   "cell_type": "code",
   "execution_count": 14,
   "id": "a6c4701ff684b1a5",
   "metadata": {
    "ExecuteTime": {
     "end_time": "2024-11-01T15:46:07.921785Z",
     "start_time": "2024-11-01T15:46:07.894633Z"
    },
    "collapsed": false,
    "jupyter": {
     "outputs_hidden": false
    }
   },
   "outputs": [],
   "source": [
    "import numpy as np\n",
    "\n",
    "def clubPerformance(listOfAthletes, club, label, year):\n",
    "    performances = []\n",
    "    athletecount = 0\n",
    "    minAge = year\n",
    "    maxAge = year + 1\n",
    "    for athlete in listOfAthletes:\n",
    "        line, minn, maxx, raw = athleteLines[athlete][label]\n",
    "        if line:\n",
    "            values = clubsDF.loc[(clubsDF['club'] == club) & (clubsDF['athlete_id'] == athlete), label].values\n",
    "            # print(athleteInfo.loc[athlete]['full_name'])\n",
    "            for value in values:\n",
    "                if minn < value['end_year'] <= maxAge and value['end_year'] >= minAge and maxAge - value['start_year'] < 5 and minAge - athleteInfo.loc[athlete]['birthyear'] >=18:\n",
    "                    starting = max(value['start_year'], minn, minAge)\n",
    "                    ending = min((value['end_year'] + 1), maxx, maxAge)\n",
    "                    # print(f'starting {starting}')\n",
    "                    # print(f'ending {ending}')\n",
    "                    if starting < ending:\n",
    "                        validp = np.arange(starting,ending, 0.1)\n",
    "                        values = [line(x) for x in validp]\n",
    "                        if values is not []:\n",
    "                            maxperformance = max(values)\n",
    "                            performances.append(maxperformance)\n",
    "                            athletecount += 1\n",
    "\n",
    "\n",
    "    if athletecount == 0:\n",
    "        return None\n",
    "    else:\n",
    "        return performances\n",
    "\n",
    "\n"
   ]
  },
  {
   "cell_type": "code",
   "execution_count": 126,
   "id": "142bd287c7d3ffa3",
   "metadata": {
    "ExecuteTime": {
     "end_time": "2024-11-03T18:21:33.193574Z",
     "start_time": "2024-11-03T18:21:20.263546Z"
    },
    "collapsed": false,
    "jupyter": {
     "outputs_hidden": false
    }
   },
   "outputs": [
    {
     "name": "stdout",
     "output_type": "stream",
     "text": [
      "    athlete        athlete_name  2023_performance  2024_performance  \\\n",
      "0      4261            Ed Aston      8.965324e+02      7.959943e+02   \n",
      "1      1447       Chris Saville      4.299080e-09      1.023967e-10   \n",
      "2      8254           Rick Ward      3.865277e+00      6.725986e-01   \n",
      "3      1663       James Tydeman      1.100499e+01      2.282876e+00   \n",
      "4     12316       Andrew Osagie      3.862892e+02      1.650589e+02   \n",
      "5      4944         James Shane      5.841005e+00      1.047179e+00   \n",
      "6      4927        Mark Woodley      7.444286e+01      2.187685e+01   \n",
      "7      1518        Robert Smith      3.094100e+02      3.712851e+02   \n",
      "8      1102         Colin Miles      3.321311e-04      1.974507e-05   \n",
      "9       172       Peter Bridger      9.467871e-05      4.904090e-06   \n",
      "10     3444        Danny Crates      5.582083e+02      3.378373e-01   \n",
      "11    17347            Tom Love      1.092012e-03      7.197651e-05   \n",
      "12     3883         Adam Hickey      8.939422e+02      8.337303e+02   \n",
      "13     9198        Daniel Shane      4.484602e+02      2.886280e+02   \n",
      "14    16274   Nathaniel Quigley      6.570393e+02      5.751528e+02   \n",
      "15     4790       Daniel Pettit      5.060995e+02      4.691420e+02   \n",
      "16    13206      Scott Phillips      1.250648e-10      2.334672e-12   \n",
      "17     6492          Carl Goose      1.648943e+01      3.762214e+00   \n",
      "18     4755         Andrew Owen      1.142805e-03      7.534653e-05   \n",
      "19    29267           Ed Messer      6.674199e-04      4.265787e-05   \n",
      "20     4734        Daniel Beier      3.982206e+00      7.150782e-01   \n",
      "21    12332        James Senior      7.032528e+02      7.265669e+02   \n",
      "22    18839      Michael Fuller      3.893647e+02      2.429716e+02   \n",
      "23     4779        Neilson Hall      1.748625e-01      1.942438e-02   \n",
      "24     3889          Jamie Nunn      1.029156e+01      2.230596e+00   \n",
      "25    29509           Paul Owen      5.479463e+02      4.045067e+02   \n",
      "26     4288        Lee Reynolds      2.142481e-01      2.506448e-02   \n",
      "27     1339           Jon Quint      4.722814e+02      4.453611e+02   \n",
      "28     4789        Ashley Allen      1.443109e-03      9.761028e-05   \n",
      "29     4333     Steven Phillips      7.516705e+02      5.680599e+02   \n",
      "30     4036        Jamie Forman      8.138601e+01      3.205253e+01   \n",
      "31    14271        Andrew Suter      1.563499e+02      5.828837e+01   \n",
      "32    13303       James O'Neill      5.970673e+02      5.553060e+02   \n",
      "33     5504      Daniel Poulton      5.047706e+02      4.992734e+02   \n",
      "34    11333        Josh Holland      3.756054e-11      6.570431e-13   \n",
      "35    24077          Paul Wytch      9.965922e-04      6.564220e-05   \n",
      "36     6214        Kelvin Hardy      4.898960e-05      2.412082e-06   \n",
      "37    17252         Liam Murray      2.717102e-11      4.696619e-13   \n",
      "38    18356        David Gibbon      1.121026e-01      1.193239e-02   \n",
      "39    17256         Ryan Parker      5.465668e+00      1.003532e+00   \n",
      "40    46215     Barry Stratford      5.398287e+02      5.055515e+02   \n",
      "41     2191         Ian Hogarth      1.388349e+01      3.876156e+00   \n",
      "42     4905        Steven Smith      6.365286e-11      1.155387e-12   \n",
      "43     4077        Richard Hill      6.084967e-05      2.978203e-06   \n",
      "44     6884          Chris Monk      5.382549e+02      5.305795e+02   \n",
      "45      156      Matthew Bowser      8.363147e+02      8.462484e+02   \n",
      "46     1105          Paul Miles      5.802784e+02      5.883991e+02   \n",
      "47     2854      Martyn Gibbons      3.566922e+01      2.036364e+02   \n",
      "48     1697     Chris Warburton      6.084516e+02      3.586393e+02   \n",
      "49     4252         Grant Baker      1.018034e-10      1.855639e-12   \n",
      "50     1343       Bruce Raeside      7.595718e+02      7.865090e+02   \n",
      "51     3709      Tom Causebrook      7.248076e-08      2.124100e-09   \n",
      "52      407             Tom Doe      6.430036e+02      5.369405e+02   \n",
      "53      634           Luke Gunn      6.535540e+01      1.820343e+01   \n",
      "54     1119           Adam Mole      2.619681e+00      4.727118e-01   \n",
      "55     1728        Richard Weir      2.111644e+02      7.863194e+01   \n",
      "56     3620        Danny Barkes      5.002676e-04      3.006436e-05   \n",
      "57    12820  William Strangeway      8.563992e+02      8.569399e+02   \n",
      "58    19044       Steve Gregory      1.071480e-03      6.893257e-05   \n",
      "59     3026   Richard Warburton      4.190698e+01      3.757098e+01   \n",
      "60     1835       Mathew Almond      5.141098e+02      3.926131e+02   \n",
      "61     2939          Tom Meakin      6.347985e+02      4.393484e+02   \n",
      "62     7354   Jordan Wildrianne      8.295345e-03      6.673222e-04   \n",
      "63     4245         Rory Fraser      4.108687e-02      3.810293e-03   \n",
      "64     3685        Daniel Yates      6.693262e-13      9.052709e-15   \n",
      "65     2932         Stuart King      7.048807e+02      5.625116e+02   \n",
      "66    13509        Joshua Moody      7.910523e+02      6.706279e+02   \n",
      "67    13097            Tom Bell      4.793488e+01      1.347501e+01   \n",
      "68     1586         Nick Talbot      6.168064e-04      3.814393e-05   \n",
      "69     3443         Ross Glover      3.280711e-04      2.021232e-05   \n",
      "70      280      Matthew Clarke      4.358244e+02      4.231645e+02   \n",
      "71    17927       Ciaran Acford      3.078126e-09      7.218862e-11   \n",
      "72     4774         James Brook      2.350271e-12      3.441326e-14   \n",
      "73     4234          Craig Maud      5.160986e-13      6.891690e-15   \n",
      "74     2237       Rob Jefferies      2.646081e-08      7.183463e-10   \n",
      "75     2019  Christopher Curtis      2.472632e+02      1.853509e+02   \n",
      "76    17134       Callum Cullen      6.064558e-08      1.751134e-09   \n",
      "77     5017          Aidan Reid      1.268626e-09      2.803623e-11   \n",
      "78     3025        Alex Bostock      4.445746e-03      3.467374e-04   \n",
      "79     5895         Paul Harmer      5.558821e+02      5.146236e+02   \n",
      "80      907          Chris Lamb      6.494044e+02      6.419595e+02   \n",
      "81     8105  Christopher McGurk      7.197841e+02      7.038952e+02   \n",
      "82     5339        Stephen Gill      1.163730e-12      1.623783e-14   \n",
      "83    17546   Andrew Szarkowski      7.645144e-07      2.683779e-08   \n",
      "84     2974       Russell Betts      1.024695e-07      3.088700e-09   \n",
      "85     1770       Phil Williams      4.991054e+02      4.479369e+02   \n",
      "86    36146         Andy Barber      1.260797e+02      4.492023e+01   \n",
      "87       49       Andy Baddeley      5.593014e+02      6.666967e+02   \n",
      "88     4250          Tim Bayley      9.122924e-04      5.712030e-05   \n",
      "89      416         Neil Dougal      2.498259e-06      9.418789e-08   \n",
      "90     1371      Chris Reynolds      1.861726e-05      8.299961e-07   \n",
      "91     1242       Graeme Oudney      7.286861e-02      7.339514e-03   \n",
      "92      187        Andrew Brown      7.087182e+02      7.182301e+02   \n",
      "93     1534    Darren St. Clair      9.013669e-04      5.644644e-05   \n",
      "94     1107           Joe Mills      9.647530e-11      1.773504e-12   \n",
      "95     1046     Jamie McCullagh      1.436425e+01      3.188767e+00   \n",
      "96      147         Adam Bowden      9.240309e+02      9.240986e+02   \n",
      "97     1025       Jermaine Mays      6.310233e+02      6.077961e+02   \n",
      "98     1737         Mark Warmby      9.462675e+01      3.911738e+01   \n",
      "99      378           Pat Davis      7.436896e+02      7.314732e+02   \n",
      "\n",
      "    value_improvement  percent_improvement  \n",
      "0       -1.005381e+02            -0.112141  \n",
      "1       -4.196683e-09            -0.976182  \n",
      "2       -3.192678e+00            -0.825990  \n",
      "3       -8.722118e+00            -0.792560  \n",
      "4       -2.212303e+02            -0.572706  \n",
      "5       -4.793826e+00            -0.820719  \n",
      "6       -5.256601e+01            -0.706126  \n",
      "7        6.187510e+01             0.199978  \n",
      "8       -3.123860e-04            -0.940550  \n",
      "9       -8.977462e-05            -0.948203  \n",
      "10      -5.578704e+02            -0.999395  \n",
      "11      -1.020035e-03            -0.934088  \n",
      "12      -6.021183e+01            -0.067355  \n",
      "13      -1.598322e+02            -0.356402  \n",
      "14      -8.188647e+01            -0.124629  \n",
      "15      -3.695747e+01            -0.073024  \n",
      "16      -1.227301e-10            -0.981332  \n",
      "17      -1.272722e+01            -0.771841  \n",
      "18      -1.067458e-03            -0.934069  \n",
      "19      -6.247620e-04            -0.936085  \n",
      "20      -3.267128e+00            -0.820432  \n",
      "21       2.331405e+01             0.033152  \n",
      "22      -1.463931e+02            -0.375979  \n",
      "23      -1.554381e-01            -0.888916  \n",
      "24      -8.060963e+00            -0.783260  \n",
      "25      -1.434396e+02            -0.261777  \n",
      "26      -1.891836e-01            -0.883012  \n",
      "27      -2.692036e+01            -0.057001  \n",
      "28      -1.345499e-03            -0.932361  \n",
      "29      -1.836106e+02            -0.244270  \n",
      "30      -4.933348e+01            -0.606167  \n",
      "31      -9.806152e+01            -0.627193  \n",
      "32      -4.176128e+01            -0.069944  \n",
      "33      -5.497255e+00            -0.010891  \n",
      "34      -3.690350e-11            -0.982507  \n",
      "35      -9.309500e-04            -0.934133  \n",
      "36      -4.657752e-05            -0.950763  \n",
      "37      -2.670136e-11            -0.982715  \n",
      "38      -1.001703e-01            -0.893558  \n",
      "39      -4.462137e+00            -0.816394  \n",
      "40      -3.427714e+01            -0.063496  \n",
      "41      -1.000733e+01            -0.720808  \n",
      "42      -6.249748e-11            -0.981849  \n",
      "43      -5.787146e-05            -0.951056  \n",
      "44      -7.675423e+00            -0.014260  \n",
      "45       9.933730e+00             0.011878  \n",
      "46       8.120756e+00             0.013995  \n",
      "47       1.679672e+02             4.709023  \n",
      "48      -2.498123e+02            -0.410571  \n",
      "49      -9.994773e-11            -0.981772  \n",
      "50       2.693722e+01             0.035464  \n",
      "51      -7.035666e-08            -0.970694  \n",
      "52      -1.060632e+02            -0.164950  \n",
      "53      -4.715197e+01            -0.721470  \n",
      "54      -2.146969e+00            -0.819554  \n",
      "55      -1.325325e+02            -0.627627  \n",
      "56      -4.702032e-04            -0.939903  \n",
      "57       5.407559e-01             0.000631  \n",
      "58      -1.002548e-03            -0.935666  \n",
      "59      -4.335999e+00            -0.103467  \n",
      "60      -1.214968e+02            -0.236325  \n",
      "61      -1.954501e+02            -0.307893  \n",
      "62      -7.628022e-03            -0.919555  \n",
      "63      -3.727658e-02            -0.907263  \n",
      "64      -6.602735e-13            -0.986475  \n",
      "65      -1.423692e+02            -0.201976  \n",
      "66      -1.204244e+02            -0.152233  \n",
      "67      -3.445988e+01            -0.718889  \n",
      "68      -5.786625e-04            -0.938159  \n",
      "69      -3.078588e-04            -0.938390  \n",
      "70      -1.265990e+01            -0.029048  \n",
      "71      -3.005938e-09            -0.976548  \n",
      "72      -2.315858e-12            -0.985358  \n",
      "73      -5.092069e-13            -0.986647  \n",
      "74      -2.574247e-08            -0.972852  \n",
      "75      -6.191227e+01            -0.250390  \n",
      "76      -5.889444e-08            -0.971125  \n",
      "77      -1.240589e-09            -0.977900  \n",
      "78      -4.099009e-03            -0.922007  \n",
      "79      -4.125845e+01            -0.074222  \n",
      "80      -7.444892e+00            -0.011464  \n",
      "81      -1.588891e+01            -0.022075  \n",
      "82      -1.147492e-12            -0.986047  \n",
      "83      -7.376766e-07            -0.964896  \n",
      "84      -9.938085e-08            -0.969857  \n",
      "85      -5.116851e+01            -0.102520  \n",
      "86      -8.115944e+01            -0.643716  \n",
      "87       1.073953e+02             0.192017  \n",
      "88      -8.551721e-04            -0.937388  \n",
      "89      -2.404071e-06            -0.962299  \n",
      "90      -1.778726e-05            -0.955418  \n",
      "91      -6.552910e-02            -0.899277  \n",
      "92       9.511850e+00             0.013421  \n",
      "93      -8.449205e-04            -0.937377  \n",
      "94      -9.470180e-11            -0.981617  \n",
      "95      -1.117548e+01            -0.778007  \n",
      "96       6.769832e-02             0.000073  \n",
      "97      -2.322719e+01            -0.036809  \n",
      "98      -5.550938e+01            -0.586614  \n",
      "99      -1.221635e+01            -0.016427  \n"
     ]
    }
   ],
   "source": [
    "data = []\n",
    "\n",
    "df23 = yearrankings[2023]\n",
    "df24 = yearrankings[2024]\n",
    "\n",
    "for athlete in listOfAthletes:\n",
    "    _23value = df23.loc[df23['athlete']==athlete]['best_performance'].values\n",
    "    _24value = df24[df24['athlete'] == athlete]['best_performance'].values\n",
    "    if len(_23value) > 0 and len(_24value) > 0:\n",
    "        _23value = _23value[0]\n",
    "        _24value = _24value[0]\n",
    "        improvement = _24value - _23value\n",
    "        percent_improvement = improvement / _23value\n",
    "        \n",
    "        data.append({\n",
    "            'athlete': athlete,\n",
    "            'athlete_name': athleteInfo._get_value(athlete, 'full_name'),\n",
    "            '2023_performance': _23value,\n",
    "            '2024_performance': _24value,\n",
    "            'value_improvement': improvement,\n",
    "            'percent_improvement': percent_improvement\n",
    "        })\n",
    "    \n",
    "improvementdf = pd.DataFrame(data)\n",
    "pprint.pprint(improvementdf[:100])\n",
    "improvementdf = improvementdf.sort_values(by='value_improvement', ascending=False)"
   ]
  },
  {
   "cell_type": "code",
   "execution_count": 18,
   "id": "e7521946eeeeda4d",
   "metadata": {
    "ExecuteTime": {
     "end_time": "2024-11-01T16:00:53.619964Z",
     "start_time": "2024-11-01T15:59:52.820138Z"
    },
    "collapsed": false,
    "jupyter": {
     "outputs_hidden": false
    }
   },
   "outputs": [
    {
     "data": {
      "application/vnd.plotly.v1+json": {
       "config": {
        "plotlyServerURL": "https://plot.ly"
       },
       "data": [
        {
         "name": "Birmingham Uni",
         "type": "scatter",
         "x": [
          2007.5,
          2008.5,
          2009.5,
          2010.5,
          2011.5,
          2012.5,
          2013.5,
          2014.5,
          2015.5,
          2016.5,
          2017.5,
          2018.5,
          2019.5,
          2020.5,
          2021.5,
          2022.5,
          2023.5,
          2024.5
         ],
         "y": [
          877.909903204683,
          780.4122363097625,
          806.5163685121927,
          793.0056830736053,
          796.0294139638368,
          679.5201936018268,
          736.2651538425788,
          755.8462430689015,
          833.8338241335921,
          803.4391734808754,
          818.8168985833694,
          810.067799942396,
          757.6467225916813,
          743.8939578348829,
          787.8360059432244,
          775.9032893737525,
          828.690718864561,
          826.1468140962469
         ]
        },
        {
         "name": "Loughborough Students",
         "type": "scatter",
         "x": [
          2007.5,
          2008.5,
          2009.5,
          2010.5,
          2011.5,
          2012.5,
          2013.5,
          2014.5,
          2015.5,
          2016.5,
          2017.5,
          2018.5,
          2019.5,
          2020.5,
          2021.5,
          2022.5,
          2023.5,
          2024.5
         ],
         "y": [
          881.1652669583606,
          836.5425983713676,
          831.6886043150525,
          911.7945258563918,
          763.8772783662769,
          720.9883729313729,
          768.4484298396251,
          604.4622799164737,
          827.7381964516632,
          922.0343370922836,
          846.9577756041797,
          809.8296309950458,
          759.7143964877964,
          757.7439949609934,
          801.9874400981776,
          817.9446752202102,
          793.6089956132348,
          804.3466363187902
         ]
        },
        {
         "name": "St. Mary's Uni",
         "type": "scatter",
         "x": [
          2007.5,
          2008.5,
          2009.5,
          2010.5,
          2011.5,
          2012.5,
          2013.5,
          2014.5,
          2015.5,
          2016.5,
          2017.5,
          2018.5,
          2019.5,
          2020.5,
          2021.5,
          2022.5,
          2023.5,
          2024.5
         ],
         "y": [
          899.2513157568673,
          903.937348693149,
          911.2746808318008,
          926.3297891816119,
          846.6293606324786,
          800.1924207432887,
          854.4200512156182,
          852.7481228827395,
          832.7288975753003,
          842.060375400329,
          873.4274669472444,
          837.8977708912421,
          799.6474995674357,
          797.9671029845996,
          827.7453678940279,
          805.9935259292522,
          768.3315846084823,
          734.9714106880392
         ]
        },
        {
         "name": "Leeds Uni",
         "type": "scatter",
         "x": [
          2007.5,
          2008.5,
          2009.5,
          2010.5,
          2011.5,
          2012.5,
          2013.5,
          2014.5,
          2015.5,
          2016.5,
          2017.5,
          2018.5,
          2019.5,
          2020.5,
          2021.5,
          2022.5,
          2023.5,
          2024.5
         ],
         "y": [
          932.8241270603207,
          null,
          787.0334002061736,
          750.2337258150824,
          750.7853871896298,
          622.5192646412204,
          619.7379064928696,
          null,
          710.8302539046699,
          732.3173837497233,
          653.8129365139669,
          696.759236012722,
          721.989131352409,
          776.1183038611106,
          636.1411293627202,
          761.5447636465508,
          742.2277992525934,
          740.9414713607904
         ]
        },
        {
         "name": "Cambridge Uni",
         "type": "scatter",
         "x": [
          2007.5,
          2008.5,
          2009.5,
          2010.5,
          2011.5,
          2012.5,
          2013.5,
          2014.5,
          2015.5,
          2016.5,
          2017.5,
          2018.5,
          2019.5,
          2020.5,
          2021.5,
          2022.5,
          2023.5,
          2024.5
         ],
         "y": [
          null,
          663.36741047327,
          827.6328334544394,
          646.4203639489338,
          662.7086260793772,
          670.6752108242935,
          714.9935772794821,
          692.793721018991,
          721.3147344142328,
          629.425003768337,
          540.8013456727695,
          629.0166327773865,
          586.8708291705434,
          673.7845309333518,
          583.131734624681,
          633.352942801022,
          723.6441980714509,
          688.8576539421766
         ]
        }
       ],
       "layout": {
        "template": {
         "data": {
          "bar": [
           {
            "error_x": {
             "color": "#f2f5fa"
            },
            "error_y": {
             "color": "#f2f5fa"
            },
            "marker": {
             "line": {
              "color": "rgb(17,17,17)",
              "width": 0.5
             },
             "pattern": {
              "fillmode": "overlay",
              "size": 10,
              "solidity": 0.2
             }
            },
            "type": "bar"
           }
          ],
          "barpolar": [
           {
            "marker": {
             "line": {
              "color": "rgb(17,17,17)",
              "width": 0.5
             },
             "pattern": {
              "fillmode": "overlay",
              "size": 10,
              "solidity": 0.2
             }
            },
            "type": "barpolar"
           }
          ],
          "carpet": [
           {
            "aaxis": {
             "endlinecolor": "#A2B1C6",
             "gridcolor": "#506784",
             "linecolor": "#506784",
             "minorgridcolor": "#506784",
             "startlinecolor": "#A2B1C6"
            },
            "baxis": {
             "endlinecolor": "#A2B1C6",
             "gridcolor": "#506784",
             "linecolor": "#506784",
             "minorgridcolor": "#506784",
             "startlinecolor": "#A2B1C6"
            },
            "type": "carpet"
           }
          ],
          "choropleth": [
           {
            "colorbar": {
             "outlinewidth": 0,
             "ticks": ""
            },
            "type": "choropleth"
           }
          ],
          "contour": [
           {
            "colorbar": {
             "outlinewidth": 0,
             "ticks": ""
            },
            "colorscale": [
             [
              0,
              "#0d0887"
             ],
             [
              0.1111111111111111,
              "#46039f"
             ],
             [
              0.2222222222222222,
              "#7201a8"
             ],
             [
              0.3333333333333333,
              "#9c179e"
             ],
             [
              0.4444444444444444,
              "#bd3786"
             ],
             [
              0.5555555555555556,
              "#d8576b"
             ],
             [
              0.6666666666666666,
              "#ed7953"
             ],
             [
              0.7777777777777778,
              "#fb9f3a"
             ],
             [
              0.8888888888888888,
              "#fdca26"
             ],
             [
              1,
              "#f0f921"
             ]
            ],
            "type": "contour"
           }
          ],
          "contourcarpet": [
           {
            "colorbar": {
             "outlinewidth": 0,
             "ticks": ""
            },
            "type": "contourcarpet"
           }
          ],
          "heatmap": [
           {
            "colorbar": {
             "outlinewidth": 0,
             "ticks": ""
            },
            "colorscale": [
             [
              0,
              "#0d0887"
             ],
             [
              0.1111111111111111,
              "#46039f"
             ],
             [
              0.2222222222222222,
              "#7201a8"
             ],
             [
              0.3333333333333333,
              "#9c179e"
             ],
             [
              0.4444444444444444,
              "#bd3786"
             ],
             [
              0.5555555555555556,
              "#d8576b"
             ],
             [
              0.6666666666666666,
              "#ed7953"
             ],
             [
              0.7777777777777778,
              "#fb9f3a"
             ],
             [
              0.8888888888888888,
              "#fdca26"
             ],
             [
              1,
              "#f0f921"
             ]
            ],
            "type": "heatmap"
           }
          ],
          "heatmapgl": [
           {
            "colorbar": {
             "outlinewidth": 0,
             "ticks": ""
            },
            "colorscale": [
             [
              0,
              "#0d0887"
             ],
             [
              0.1111111111111111,
              "#46039f"
             ],
             [
              0.2222222222222222,
              "#7201a8"
             ],
             [
              0.3333333333333333,
              "#9c179e"
             ],
             [
              0.4444444444444444,
              "#bd3786"
             ],
             [
              0.5555555555555556,
              "#d8576b"
             ],
             [
              0.6666666666666666,
              "#ed7953"
             ],
             [
              0.7777777777777778,
              "#fb9f3a"
             ],
             [
              0.8888888888888888,
              "#fdca26"
             ],
             [
              1,
              "#f0f921"
             ]
            ],
            "type": "heatmapgl"
           }
          ],
          "histogram": [
           {
            "marker": {
             "pattern": {
              "fillmode": "overlay",
              "size": 10,
              "solidity": 0.2
             }
            },
            "type": "histogram"
           }
          ],
          "histogram2d": [
           {
            "colorbar": {
             "outlinewidth": 0,
             "ticks": ""
            },
            "colorscale": [
             [
              0,
              "#0d0887"
             ],
             [
              0.1111111111111111,
              "#46039f"
             ],
             [
              0.2222222222222222,
              "#7201a8"
             ],
             [
              0.3333333333333333,
              "#9c179e"
             ],
             [
              0.4444444444444444,
              "#bd3786"
             ],
             [
              0.5555555555555556,
              "#d8576b"
             ],
             [
              0.6666666666666666,
              "#ed7953"
             ],
             [
              0.7777777777777778,
              "#fb9f3a"
             ],
             [
              0.8888888888888888,
              "#fdca26"
             ],
             [
              1,
              "#f0f921"
             ]
            ],
            "type": "histogram2d"
           }
          ],
          "histogram2dcontour": [
           {
            "colorbar": {
             "outlinewidth": 0,
             "ticks": ""
            },
            "colorscale": [
             [
              0,
              "#0d0887"
             ],
             [
              0.1111111111111111,
              "#46039f"
             ],
             [
              0.2222222222222222,
              "#7201a8"
             ],
             [
              0.3333333333333333,
              "#9c179e"
             ],
             [
              0.4444444444444444,
              "#bd3786"
             ],
             [
              0.5555555555555556,
              "#d8576b"
             ],
             [
              0.6666666666666666,
              "#ed7953"
             ],
             [
              0.7777777777777778,
              "#fb9f3a"
             ],
             [
              0.8888888888888888,
              "#fdca26"
             ],
             [
              1,
              "#f0f921"
             ]
            ],
            "type": "histogram2dcontour"
           }
          ],
          "mesh3d": [
           {
            "colorbar": {
             "outlinewidth": 0,
             "ticks": ""
            },
            "type": "mesh3d"
           }
          ],
          "parcoords": [
           {
            "line": {
             "colorbar": {
              "outlinewidth": 0,
              "ticks": ""
             }
            },
            "type": "parcoords"
           }
          ],
          "pie": [
           {
            "automargin": true,
            "type": "pie"
           }
          ],
          "scatter": [
           {
            "marker": {
             "line": {
              "color": "#283442"
             }
            },
            "type": "scatter"
           }
          ],
          "scatter3d": [
           {
            "line": {
             "colorbar": {
              "outlinewidth": 0,
              "ticks": ""
             }
            },
            "marker": {
             "colorbar": {
              "outlinewidth": 0,
              "ticks": ""
             }
            },
            "type": "scatter3d"
           }
          ],
          "scattercarpet": [
           {
            "marker": {
             "colorbar": {
              "outlinewidth": 0,
              "ticks": ""
             }
            },
            "type": "scattercarpet"
           }
          ],
          "scattergeo": [
           {
            "marker": {
             "colorbar": {
              "outlinewidth": 0,
              "ticks": ""
             }
            },
            "type": "scattergeo"
           }
          ],
          "scattergl": [
           {
            "marker": {
             "line": {
              "color": "#283442"
             }
            },
            "type": "scattergl"
           }
          ],
          "scattermapbox": [
           {
            "marker": {
             "colorbar": {
              "outlinewidth": 0,
              "ticks": ""
             }
            },
            "type": "scattermapbox"
           }
          ],
          "scatterpolar": [
           {
            "marker": {
             "colorbar": {
              "outlinewidth": 0,
              "ticks": ""
             }
            },
            "type": "scatterpolar"
           }
          ],
          "scatterpolargl": [
           {
            "marker": {
             "colorbar": {
              "outlinewidth": 0,
              "ticks": ""
             }
            },
            "type": "scatterpolargl"
           }
          ],
          "scatterternary": [
           {
            "marker": {
             "colorbar": {
              "outlinewidth": 0,
              "ticks": ""
             }
            },
            "type": "scatterternary"
           }
          ],
          "surface": [
           {
            "colorbar": {
             "outlinewidth": 0,
             "ticks": ""
            },
            "colorscale": [
             [
              0,
              "#0d0887"
             ],
             [
              0.1111111111111111,
              "#46039f"
             ],
             [
              0.2222222222222222,
              "#7201a8"
             ],
             [
              0.3333333333333333,
              "#9c179e"
             ],
             [
              0.4444444444444444,
              "#bd3786"
             ],
             [
              0.5555555555555556,
              "#d8576b"
             ],
             [
              0.6666666666666666,
              "#ed7953"
             ],
             [
              0.7777777777777778,
              "#fb9f3a"
             ],
             [
              0.8888888888888888,
              "#fdca26"
             ],
             [
              1,
              "#f0f921"
             ]
            ],
            "type": "surface"
           }
          ],
          "table": [
           {
            "cells": {
             "fill": {
              "color": "#506784"
             },
             "line": {
              "color": "rgb(17,17,17)"
             }
            },
            "header": {
             "fill": {
              "color": "#2a3f5f"
             },
             "line": {
              "color": "rgb(17,17,17)"
             }
            },
            "type": "table"
           }
          ]
         },
         "layout": {
          "annotationdefaults": {
           "arrowcolor": "#f2f5fa",
           "arrowhead": 0,
           "arrowwidth": 1
          },
          "autotypenumbers": "strict",
          "coloraxis": {
           "colorbar": {
            "outlinewidth": 0,
            "ticks": ""
           }
          },
          "colorscale": {
           "diverging": [
            [
             0,
             "#8e0152"
            ],
            [
             0.1,
             "#c51b7d"
            ],
            [
             0.2,
             "#de77ae"
            ],
            [
             0.3,
             "#f1b6da"
            ],
            [
             0.4,
             "#fde0ef"
            ],
            [
             0.5,
             "#f7f7f7"
            ],
            [
             0.6,
             "#e6f5d0"
            ],
            [
             0.7,
             "#b8e186"
            ],
            [
             0.8,
             "#7fbc41"
            ],
            [
             0.9,
             "#4d9221"
            ],
            [
             1,
             "#276419"
            ]
           ],
           "sequential": [
            [
             0,
             "#0d0887"
            ],
            [
             0.1111111111111111,
             "#46039f"
            ],
            [
             0.2222222222222222,
             "#7201a8"
            ],
            [
             0.3333333333333333,
             "#9c179e"
            ],
            [
             0.4444444444444444,
             "#bd3786"
            ],
            [
             0.5555555555555556,
             "#d8576b"
            ],
            [
             0.6666666666666666,
             "#ed7953"
            ],
            [
             0.7777777777777778,
             "#fb9f3a"
            ],
            [
             0.8888888888888888,
             "#fdca26"
            ],
            [
             1,
             "#f0f921"
            ]
           ],
           "sequentialminus": [
            [
             0,
             "#0d0887"
            ],
            [
             0.1111111111111111,
             "#46039f"
            ],
            [
             0.2222222222222222,
             "#7201a8"
            ],
            [
             0.3333333333333333,
             "#9c179e"
            ],
            [
             0.4444444444444444,
             "#bd3786"
            ],
            [
             0.5555555555555556,
             "#d8576b"
            ],
            [
             0.6666666666666666,
             "#ed7953"
            ],
            [
             0.7777777777777778,
             "#fb9f3a"
            ],
            [
             0.8888888888888888,
             "#fdca26"
            ],
            [
             1,
             "#f0f921"
            ]
           ]
          },
          "colorway": [
           "#636efa",
           "#EF553B",
           "#00cc96",
           "#ab63fa",
           "#FFA15A",
           "#19d3f3",
           "#FF6692",
           "#B6E880",
           "#FF97FF",
           "#FECB52"
          ],
          "font": {
           "color": "#f2f5fa"
          },
          "geo": {
           "bgcolor": "rgb(17,17,17)",
           "lakecolor": "rgb(17,17,17)",
           "landcolor": "rgb(17,17,17)",
           "showlakes": true,
           "showland": true,
           "subunitcolor": "#506784"
          },
          "hoverlabel": {
           "align": "left"
          },
          "hovermode": "closest",
          "mapbox": {
           "style": "dark"
          },
          "paper_bgcolor": "rgb(17,17,17)",
          "plot_bgcolor": "rgb(17,17,17)",
          "polar": {
           "angularaxis": {
            "gridcolor": "#506784",
            "linecolor": "#506784",
            "ticks": ""
           },
           "bgcolor": "rgb(17,17,17)",
           "radialaxis": {
            "gridcolor": "#506784",
            "linecolor": "#506784",
            "ticks": ""
           }
          },
          "scene": {
           "xaxis": {
            "backgroundcolor": "rgb(17,17,17)",
            "gridcolor": "#506784",
            "gridwidth": 2,
            "linecolor": "#506784",
            "showbackground": true,
            "ticks": "",
            "zerolinecolor": "#C8D4E3"
           },
           "yaxis": {
            "backgroundcolor": "rgb(17,17,17)",
            "gridcolor": "#506784",
            "gridwidth": 2,
            "linecolor": "#506784",
            "showbackground": true,
            "ticks": "",
            "zerolinecolor": "#C8D4E3"
           },
           "zaxis": {
            "backgroundcolor": "rgb(17,17,17)",
            "gridcolor": "#506784",
            "gridwidth": 2,
            "linecolor": "#506784",
            "showbackground": true,
            "ticks": "",
            "zerolinecolor": "#C8D4E3"
           }
          },
          "shapedefaults": {
           "line": {
            "color": "#f2f5fa"
           }
          },
          "sliderdefaults": {
           "bgcolor": "#C8D4E3",
           "bordercolor": "rgb(17,17,17)",
           "borderwidth": 1,
           "tickwidth": 0
          },
          "ternary": {
           "aaxis": {
            "gridcolor": "#506784",
            "linecolor": "#506784",
            "ticks": ""
           },
           "baxis": {
            "gridcolor": "#506784",
            "linecolor": "#506784",
            "ticks": ""
           },
           "bgcolor": "rgb(17,17,17)",
           "caxis": {
            "gridcolor": "#506784",
            "linecolor": "#506784",
            "ticks": ""
           }
          },
          "title": {
           "x": 0.05
          },
          "updatemenudefaults": {
           "bgcolor": "#506784",
           "borderwidth": 0
          },
          "xaxis": {
           "automargin": true,
           "gridcolor": "#283442",
           "linecolor": "#506784",
           "ticks": "",
           "title": {
            "standoff": 15
           },
           "zerolinecolor": "#283442",
           "zerolinewidth": 2
          },
          "yaxis": {
           "automargin": true,
           "gridcolor": "#283442",
           "linecolor": "#506784",
           "ticks": "",
           "title": {
            "standoff": 15
           },
           "zerolinecolor": "#283442",
           "zerolinewidth": 2
          }
         }
        }
       }
      },
      "text/html": [
       "<div>                            <div id=\"df406fd8-57bf-4b1a-b78a-16c5f6cf7d6e\" class=\"plotly-graph-div\" style=\"height:525px; width:100%;\"></div>            <script type=\"text/javascript\">                require([\"plotly\"], function(Plotly) {                    window.PLOTLYENV=window.PLOTLYENV || {};                                    if (document.getElementById(\"df406fd8-57bf-4b1a-b78a-16c5f6cf7d6e\")) {                    Plotly.newPlot(                        \"df406fd8-57bf-4b1a-b78a-16c5f6cf7d6e\",                        [{\"name\":\"Birmingham Uni\",\"x\":[2007.5,2008.5,2009.5,2010.5,2011.5,2012.5,2013.5,2014.5,2015.5,2016.5,2017.5,2018.5,2019.5,2020.5,2021.5,2022.5,2023.5,2024.5],\"y\":[877.909903204683,780.4122363097625,806.5163685121927,793.0056830736053,796.0294139638368,679.5201936018268,736.2651538425788,755.8462430689015,833.8338241335921,803.4391734808754,818.8168985833694,810.067799942396,757.6467225916813,743.8939578348829,787.8360059432244,775.9032893737525,828.690718864561,826.1468140962469],\"type\":\"scatter\"},{\"name\":\"Loughborough Students\",\"x\":[2007.5,2008.5,2009.5,2010.5,2011.5,2012.5,2013.5,2014.5,2015.5,2016.5,2017.5,2018.5,2019.5,2020.5,2021.5,2022.5,2023.5,2024.5],\"y\":[881.1652669583606,836.5425983713676,831.6886043150525,911.7945258563918,763.8772783662769,720.9883729313729,768.4484298396251,604.4622799164737,827.7381964516632,922.0343370922836,846.9577756041797,809.8296309950458,759.7143964877964,757.7439949609934,801.9874400981776,817.9446752202102,793.6089956132348,804.3466363187902],\"type\":\"scatter\"},{\"name\":\"St. Mary's Uni\",\"x\":[2007.5,2008.5,2009.5,2010.5,2011.5,2012.5,2013.5,2014.5,2015.5,2016.5,2017.5,2018.5,2019.5,2020.5,2021.5,2022.5,2023.5,2024.5],\"y\":[899.2513157568673,903.937348693149,911.2746808318008,926.3297891816119,846.6293606324786,800.1924207432887,854.4200512156182,852.7481228827395,832.7288975753003,842.060375400329,873.4274669472444,837.8977708912421,799.6474995674357,797.9671029845996,827.7453678940279,805.9935259292522,768.3315846084823,734.9714106880392],\"type\":\"scatter\"},{\"name\":\"Leeds Uni\",\"x\":[2007.5,2008.5,2009.5,2010.5,2011.5,2012.5,2013.5,2014.5,2015.5,2016.5,2017.5,2018.5,2019.5,2020.5,2021.5,2022.5,2023.5,2024.5],\"y\":[932.8241270603207,null,787.0334002061736,750.2337258150824,750.7853871896298,622.5192646412204,619.7379064928696,null,710.8302539046699,732.3173837497233,653.8129365139669,696.759236012722,721.989131352409,776.1183038611106,636.1411293627202,761.5447636465508,742.2277992525934,740.9414713607904],\"type\":\"scatter\"},{\"name\":\"Cambridge Uni\",\"x\":[2007.5,2008.5,2009.5,2010.5,2011.5,2012.5,2013.5,2014.5,2015.5,2016.5,2017.5,2018.5,2019.5,2020.5,2021.5,2022.5,2023.5,2024.5],\"y\":[null,663.36741047327,827.6328334544394,646.4203639489338,662.7086260793772,670.6752108242935,714.9935772794821,692.793721018991,721.3147344142328,629.425003768337,540.8013456727695,629.0166327773865,586.8708291705434,673.7845309333518,583.131734624681,633.352942801022,723.6441980714509,688.8576539421766],\"type\":\"scatter\"}],                        {\"template\":{\"data\":{\"histogram2dcontour\":[{\"type\":\"histogram2dcontour\",\"colorbar\":{\"outlinewidth\":0,\"ticks\":\"\"},\"colorscale\":[[0.0,\"#0d0887\"],[0.1111111111111111,\"#46039f\"],[0.2222222222222222,\"#7201a8\"],[0.3333333333333333,\"#9c179e\"],[0.4444444444444444,\"#bd3786\"],[0.5555555555555556,\"#d8576b\"],[0.6666666666666666,\"#ed7953\"],[0.7777777777777778,\"#fb9f3a\"],[0.8888888888888888,\"#fdca26\"],[1.0,\"#f0f921\"]]}],\"choropleth\":[{\"type\":\"choropleth\",\"colorbar\":{\"outlinewidth\":0,\"ticks\":\"\"}}],\"histogram2d\":[{\"type\":\"histogram2d\",\"colorbar\":{\"outlinewidth\":0,\"ticks\":\"\"},\"colorscale\":[[0.0,\"#0d0887\"],[0.1111111111111111,\"#46039f\"],[0.2222222222222222,\"#7201a8\"],[0.3333333333333333,\"#9c179e\"],[0.4444444444444444,\"#bd3786\"],[0.5555555555555556,\"#d8576b\"],[0.6666666666666666,\"#ed7953\"],[0.7777777777777778,\"#fb9f3a\"],[0.8888888888888888,\"#fdca26\"],[1.0,\"#f0f921\"]]}],\"heatmap\":[{\"type\":\"heatmap\",\"colorbar\":{\"outlinewidth\":0,\"ticks\":\"\"},\"colorscale\":[[0.0,\"#0d0887\"],[0.1111111111111111,\"#46039f\"],[0.2222222222222222,\"#7201a8\"],[0.3333333333333333,\"#9c179e\"],[0.4444444444444444,\"#bd3786\"],[0.5555555555555556,\"#d8576b\"],[0.6666666666666666,\"#ed7953\"],[0.7777777777777778,\"#fb9f3a\"],[0.8888888888888888,\"#fdca26\"],[1.0,\"#f0f921\"]]}],\"heatmapgl\":[{\"type\":\"heatmapgl\",\"colorbar\":{\"outlinewidth\":0,\"ticks\":\"\"},\"colorscale\":[[0.0,\"#0d0887\"],[0.1111111111111111,\"#46039f\"],[0.2222222222222222,\"#7201a8\"],[0.3333333333333333,\"#9c179e\"],[0.4444444444444444,\"#bd3786\"],[0.5555555555555556,\"#d8576b\"],[0.6666666666666666,\"#ed7953\"],[0.7777777777777778,\"#fb9f3a\"],[0.8888888888888888,\"#fdca26\"],[1.0,\"#f0f921\"]]}],\"contourcarpet\":[{\"type\":\"contourcarpet\",\"colorbar\":{\"outlinewidth\":0,\"ticks\":\"\"}}],\"contour\":[{\"type\":\"contour\",\"colorbar\":{\"outlinewidth\":0,\"ticks\":\"\"},\"colorscale\":[[0.0,\"#0d0887\"],[0.1111111111111111,\"#46039f\"],[0.2222222222222222,\"#7201a8\"],[0.3333333333333333,\"#9c179e\"],[0.4444444444444444,\"#bd3786\"],[0.5555555555555556,\"#d8576b\"],[0.6666666666666666,\"#ed7953\"],[0.7777777777777778,\"#fb9f3a\"],[0.8888888888888888,\"#fdca26\"],[1.0,\"#f0f921\"]]}],\"surface\":[{\"type\":\"surface\",\"colorbar\":{\"outlinewidth\":0,\"ticks\":\"\"},\"colorscale\":[[0.0,\"#0d0887\"],[0.1111111111111111,\"#46039f\"],[0.2222222222222222,\"#7201a8\"],[0.3333333333333333,\"#9c179e\"],[0.4444444444444444,\"#bd3786\"],[0.5555555555555556,\"#d8576b\"],[0.6666666666666666,\"#ed7953\"],[0.7777777777777778,\"#fb9f3a\"],[0.8888888888888888,\"#fdca26\"],[1.0,\"#f0f921\"]]}],\"mesh3d\":[{\"type\":\"mesh3d\",\"colorbar\":{\"outlinewidth\":0,\"ticks\":\"\"}}],\"scatter\":[{\"marker\":{\"line\":{\"color\":\"#283442\"}},\"type\":\"scatter\"}],\"parcoords\":[{\"type\":\"parcoords\",\"line\":{\"colorbar\":{\"outlinewidth\":0,\"ticks\":\"\"}}}],\"scatterpolargl\":[{\"type\":\"scatterpolargl\",\"marker\":{\"colorbar\":{\"outlinewidth\":0,\"ticks\":\"\"}}}],\"bar\":[{\"error_x\":{\"color\":\"#f2f5fa\"},\"error_y\":{\"color\":\"#f2f5fa\"},\"marker\":{\"line\":{\"color\":\"rgb(17,17,17)\",\"width\":0.5},\"pattern\":{\"fillmode\":\"overlay\",\"size\":10,\"solidity\":0.2}},\"type\":\"bar\"}],\"scattergeo\":[{\"type\":\"scattergeo\",\"marker\":{\"colorbar\":{\"outlinewidth\":0,\"ticks\":\"\"}}}],\"scatterpolar\":[{\"type\":\"scatterpolar\",\"marker\":{\"colorbar\":{\"outlinewidth\":0,\"ticks\":\"\"}}}],\"histogram\":[{\"marker\":{\"pattern\":{\"fillmode\":\"overlay\",\"size\":10,\"solidity\":0.2}},\"type\":\"histogram\"}],\"scattergl\":[{\"marker\":{\"line\":{\"color\":\"#283442\"}},\"type\":\"scattergl\"}],\"scatter3d\":[{\"type\":\"scatter3d\",\"line\":{\"colorbar\":{\"outlinewidth\":0,\"ticks\":\"\"}},\"marker\":{\"colorbar\":{\"outlinewidth\":0,\"ticks\":\"\"}}}],\"scattermapbox\":[{\"type\":\"scattermapbox\",\"marker\":{\"colorbar\":{\"outlinewidth\":0,\"ticks\":\"\"}}}],\"scatterternary\":[{\"type\":\"scatterternary\",\"marker\":{\"colorbar\":{\"outlinewidth\":0,\"ticks\":\"\"}}}],\"scattercarpet\":[{\"type\":\"scattercarpet\",\"marker\":{\"colorbar\":{\"outlinewidth\":0,\"ticks\":\"\"}}}],\"carpet\":[{\"aaxis\":{\"endlinecolor\":\"#A2B1C6\",\"gridcolor\":\"#506784\",\"linecolor\":\"#506784\",\"minorgridcolor\":\"#506784\",\"startlinecolor\":\"#A2B1C6\"},\"baxis\":{\"endlinecolor\":\"#A2B1C6\",\"gridcolor\":\"#506784\",\"linecolor\":\"#506784\",\"minorgridcolor\":\"#506784\",\"startlinecolor\":\"#A2B1C6\"},\"type\":\"carpet\"}],\"table\":[{\"cells\":{\"fill\":{\"color\":\"#506784\"},\"line\":{\"color\":\"rgb(17,17,17)\"}},\"header\":{\"fill\":{\"color\":\"#2a3f5f\"},\"line\":{\"color\":\"rgb(17,17,17)\"}},\"type\":\"table\"}],\"barpolar\":[{\"marker\":{\"line\":{\"color\":\"rgb(17,17,17)\",\"width\":0.5},\"pattern\":{\"fillmode\":\"overlay\",\"size\":10,\"solidity\":0.2}},\"type\":\"barpolar\"}],\"pie\":[{\"automargin\":true,\"type\":\"pie\"}]},\"layout\":{\"autotypenumbers\":\"strict\",\"colorway\":[\"#636efa\",\"#EF553B\",\"#00cc96\",\"#ab63fa\",\"#FFA15A\",\"#19d3f3\",\"#FF6692\",\"#B6E880\",\"#FF97FF\",\"#FECB52\"],\"font\":{\"color\":\"#f2f5fa\"},\"hovermode\":\"closest\",\"hoverlabel\":{\"align\":\"left\"},\"paper_bgcolor\":\"rgb(17,17,17)\",\"plot_bgcolor\":\"rgb(17,17,17)\",\"polar\":{\"bgcolor\":\"rgb(17,17,17)\",\"angularaxis\":{\"gridcolor\":\"#506784\",\"linecolor\":\"#506784\",\"ticks\":\"\"},\"radialaxis\":{\"gridcolor\":\"#506784\",\"linecolor\":\"#506784\",\"ticks\":\"\"}},\"ternary\":{\"bgcolor\":\"rgb(17,17,17)\",\"aaxis\":{\"gridcolor\":\"#506784\",\"linecolor\":\"#506784\",\"ticks\":\"\"},\"baxis\":{\"gridcolor\":\"#506784\",\"linecolor\":\"#506784\",\"ticks\":\"\"},\"caxis\":{\"gridcolor\":\"#506784\",\"linecolor\":\"#506784\",\"ticks\":\"\"}},\"coloraxis\":{\"colorbar\":{\"outlinewidth\":0,\"ticks\":\"\"}},\"colorscale\":{\"sequential\":[[0.0,\"#0d0887\"],[0.1111111111111111,\"#46039f\"],[0.2222222222222222,\"#7201a8\"],[0.3333333333333333,\"#9c179e\"],[0.4444444444444444,\"#bd3786\"],[0.5555555555555556,\"#d8576b\"],[0.6666666666666666,\"#ed7953\"],[0.7777777777777778,\"#fb9f3a\"],[0.8888888888888888,\"#fdca26\"],[1.0,\"#f0f921\"]],\"sequentialminus\":[[0.0,\"#0d0887\"],[0.1111111111111111,\"#46039f\"],[0.2222222222222222,\"#7201a8\"],[0.3333333333333333,\"#9c179e\"],[0.4444444444444444,\"#bd3786\"],[0.5555555555555556,\"#d8576b\"],[0.6666666666666666,\"#ed7953\"],[0.7777777777777778,\"#fb9f3a\"],[0.8888888888888888,\"#fdca26\"],[1.0,\"#f0f921\"]],\"diverging\":[[0,\"#8e0152\"],[0.1,\"#c51b7d\"],[0.2,\"#de77ae\"],[0.3,\"#f1b6da\"],[0.4,\"#fde0ef\"],[0.5,\"#f7f7f7\"],[0.6,\"#e6f5d0\"],[0.7,\"#b8e186\"],[0.8,\"#7fbc41\"],[0.9,\"#4d9221\"],[1,\"#276419\"]]},\"xaxis\":{\"gridcolor\":\"#283442\",\"linecolor\":\"#506784\",\"ticks\":\"\",\"title\":{\"standoff\":15},\"zerolinecolor\":\"#283442\",\"automargin\":true,\"zerolinewidth\":2},\"yaxis\":{\"gridcolor\":\"#283442\",\"linecolor\":\"#506784\",\"ticks\":\"\",\"title\":{\"standoff\":15},\"zerolinecolor\":\"#283442\",\"automargin\":true,\"zerolinewidth\":2},\"scene\":{\"xaxis\":{\"backgroundcolor\":\"rgb(17,17,17)\",\"gridcolor\":\"#506784\",\"linecolor\":\"#506784\",\"showbackground\":true,\"ticks\":\"\",\"zerolinecolor\":\"#C8D4E3\",\"gridwidth\":2},\"yaxis\":{\"backgroundcolor\":\"rgb(17,17,17)\",\"gridcolor\":\"#506784\",\"linecolor\":\"#506784\",\"showbackground\":true,\"ticks\":\"\",\"zerolinecolor\":\"#C8D4E3\",\"gridwidth\":2},\"zaxis\":{\"backgroundcolor\":\"rgb(17,17,17)\",\"gridcolor\":\"#506784\",\"linecolor\":\"#506784\",\"showbackground\":true,\"ticks\":\"\",\"zerolinecolor\":\"#C8D4E3\",\"gridwidth\":2}},\"shapedefaults\":{\"line\":{\"color\":\"#f2f5fa\"}},\"annotationdefaults\":{\"arrowcolor\":\"#f2f5fa\",\"arrowhead\":0,\"arrowwidth\":1},\"geo\":{\"bgcolor\":\"rgb(17,17,17)\",\"landcolor\":\"rgb(17,17,17)\",\"subunitcolor\":\"#506784\",\"showland\":true,\"showlakes\":true,\"lakecolor\":\"rgb(17,17,17)\"},\"title\":{\"x\":0.05},\"updatemenudefaults\":{\"bgcolor\":\"#506784\",\"borderwidth\":0},\"sliderdefaults\":{\"bgcolor\":\"#C8D4E3\",\"borderwidth\":1,\"bordercolor\":\"rgb(17,17,17)\",\"tickwidth\":0},\"mapbox\":{\"style\":\"dark\"}}}},                        {\"responsive\": true}                    ).then(function(){\n",
       "                            \n",
       "var gd = document.getElementById('df406fd8-57bf-4b1a-b78a-16c5f6cf7d6e');\n",
       "var x = new MutationObserver(function (mutations, observer) {{\n",
       "        var display = window.getComputedStyle(gd).display;\n",
       "        if (!display || display === 'none') {{\n",
       "            console.log([gd, 'removed!']);\n",
       "            Plotly.purge(gd);\n",
       "            observer.disconnect();\n",
       "        }}\n",
       "}});\n",
       "\n",
       "// Listen for the removal of the full notebook cells\n",
       "var notebookContainer = gd.closest('#notebook-container');\n",
       "if (notebookContainer) {{\n",
       "    x.observe(notebookContainer, {childList: true});\n",
       "}}\n",
       "\n",
       "// Listen for the clearing of the current output cell\n",
       "var outputEl = gd.closest('.output');\n",
       "if (outputEl) {{\n",
       "    x.observe(outputEl, {childList: true});\n",
       "}}\n",
       "\n",
       "                        })                };                });            </script>        </div>"
      ]
     },
     "metadata": {},
     "output_type": "display_data"
    }
   ],
   "source": [
    "import numpy as np\n",
    "import plotly.graph_objects as go\n",
    "\n",
    "# Define clubs and their average performance lists\n",
    "clubs = {\n",
    "    \"Birmingham Uni\": {'data': {}, 'avg': []},\n",
    "    \"Loughborough Students\": {'data': {}, 'avg': []},\n",
    "    \"St. Mary's Uni\": {'data': {}, 'avg': []},\n",
    "    \"Leeds Uni\": {'data': {}, 'avg': []},\n",
    "    \"Cambridge Uni\": {'data': {}, 'avg': []}\n",
    "}\n",
    "\n",
    "x_input = np.arange(2007, 2025)\n",
    "fig = go.Figure()\n",
    "\n",
    "# Iterate through each year and calculate performance for each club\n",
    "for year in x_input:\n",
    "    for club_name, club_dict in clubs.items():\n",
    "        club_data = clubPerformance(clubFilter(listOfAthletes, club_name), club_name, 'dec_date', year)\n",
    "        club_dict['data'][year] = club_data\n",
    "        \n",
    "        if club_data is not None:\n",
    "            club_dict['avg'].append(np.average(club_data))\n",
    "        else:\n",
    "            club_dict['avg'].append(np.nan)  # Append NaN for missing data\n",
    "\n",
    "# Add traces for each club to the plot\n",
    "for club_name, club_dict in clubs.items():\n",
    "    fig.add_trace(go.Scatter(x=x_input + 0.5, y=club_dict['avg'], name=club_name))\n",
    "\n",
    "# Show the figure\n",
    "fig.show()\n"
   ]
  },
  {
   "cell_type": "code",
   "execution_count": 15,
   "id": "ef738b4229f8e2d",
   "metadata": {
    "collapsed": false,
    "jupyter": {
     "outputs_hidden": false
    }
   },
   "outputs": [],
   "source": []
  },
  {
   "cell_type": "code",
   "execution_count": 15,
   "id": "12349a0760e49406",
   "metadata": {
    "collapsed": false,
    "jupyter": {
     "outputs_hidden": false
    }
   },
   "outputs": [],
   "source": []
  }
 ],
 "metadata": {
  "kernelspec": {
   "display_name": "Python 3 (ipykernel)",
   "language": "python",
   "name": "python3"
  },
  "language_info": {
   "codemirror_mode": {
    "name": "ipython",
    "version": 3
   },
   "file_extension": ".py",
   "mimetype": "text/x-python",
   "name": "python",
   "nbconvert_exporter": "python",
   "pygments_lexer": "ipython3",
   "version": "3.9.13"
  }
 },
 "nbformat": 4,
 "nbformat_minor": 5
}
